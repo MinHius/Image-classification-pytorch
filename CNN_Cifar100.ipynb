{
 "cells": [
  {
   "cell_type": "markdown",
   "metadata": {
    "id": "IgvwQeSv9-7X"
   },
   "source": [
    "## Import thư viện"
   ]
  },
  {
   "cell_type": "code",
   "execution_count": 1,
   "metadata": {
    "executionInfo": {
     "elapsed": 335,
     "status": "ok",
     "timestamp": 1734001446418,
     "user": {
      "displayName": "Huy Nguyen Truong",
      "userId": "14928430703065049539"
     },
     "user_tz": -420
    },
    "id": "eJmEzH9c9-7Z"
   },
   "outputs": [],
   "source": [
    "import torch\n",
    "from torch import nn\n",
    "import torch.optim as optim\n",
    "import torchvision\n",
    "import torchvision.transforms as transforms\n",
    "from torch.utils.data import DataLoader\n",
    "import torchsummary\n",
    "from tqdm import tqdm\n",
    "import matplotlib.pyplot as plt\n",
    "from sklearn.metrics import classification_report\n",
    "import time\n",
    "import json\n",
    "import os"
   ]
  },
  {
   "cell_type": "markdown",
   "metadata": {
    "id": "luoEHnTx9-7a"
   },
   "source": [
    "## Model"
   ]
  },
  {
   "cell_type": "code",
   "execution_count": 2,
   "metadata": {
    "executionInfo": {
     "elapsed": 3,
     "status": "ok",
     "timestamp": 1734001446418,
     "user": {
      "displayName": "Huy Nguyen Truong",
      "userId": "14928430703065049539"
     },
     "user_tz": -420
    },
    "id": "QrbNGMqcf-ea"
   },
   "outputs": [],
   "source": [
    "class CNN(nn.Module):\n",
    "    def __init__(self, image_size, out_channels, kernel_size, stride, padding, num_layers=2, num_blocks_per_layer=2, num_classes=100):\n",
    "        super(CNN, self).__init__()\n",
    "        self.in_channels = 3\n",
    "        self.image_size = image_size\n",
    "        self.layers = self.make_layer(num_layers, num_blocks_per_layer, out_channels, kernel_size=kernel_size, stride=stride, padding=padding, drop_out=0.5)\n",
    "        self.flatten = nn.Flatten()\n",
    "        self.image_size = image_size // (2 ** num_layers)\n",
    "        self.fc = nn.Linear(self.image_size * self.image_size * self.in_channels, num_classes)\n",
    "\n",
    "    def make_layer(self, num_layers, num_blocks_per_layer, out_channels, kernel_size, stride, padding, drop_out):\n",
    "        layers = []\n",
    "        for layer in range(num_layers):\n",
    "            for block in range(num_blocks_per_layer):\n",
    "                layers.extend([nn.Conv2d(self.in_channels, out_channels[layer], kernel_size, stride, padding),\n",
    "                               nn.BatchNorm2d(out_channels[layer]),\n",
    "                               nn.ReLU(inplace=True)])\n",
    "                self.in_channels = out_channels[layer]\n",
    "            layers.extend([nn.MaxPool2d(kernel_size=2),\n",
    "                           nn.Dropout(drop_out)])\n",
    "        return nn.Sequential(*layers)\n",
    "\n",
    "\n",
    "    def forward(self, x):\n",
    "        x = self.layers(x)\n",
    "        x = self.flatten(x)\n",
    "        x = self.fc(x)\n",
    "        return x"
   ]
  },
  {
   "cell_type": "code",
   "execution_count": 3,
   "metadata": {
    "colab": {
     "base_uri": "https://localhost:8080/"
    },
    "executionInfo": {
     "elapsed": 3,
     "status": "ok",
     "timestamp": 1734001446418,
     "user": {
      "displayName": "Huy Nguyen Truong",
      "userId": "14928430703065049539"
     },
     "user_tz": -420
    },
    "id": "NlCAls3g9-7c",
    "outputId": "46e4af51-0cc1-44b8-8ad1-e41d1b2a3464"
   },
   "outputs": [
    {
     "name": "stdout",
     "output_type": "stream",
     "text": [
      "=================================================================\n",
      "Layer (type:depth-idx)                   Param #\n",
      "=================================================================\n",
      "├─Sequential: 1-1                        --\n",
      "|    └─Conv2d: 2-1                       1,792\n",
      "|    └─BatchNorm2d: 2-2                  128\n",
      "|    └─ReLU: 2-3                         --\n",
      "|    └─Conv2d: 2-4                       36,928\n",
      "|    └─BatchNorm2d: 2-5                  128\n",
      "|    └─ReLU: 2-6                         --\n",
      "|    └─MaxPool2d: 2-7                    --\n",
      "|    └─Dropout: 2-8                      --\n",
      "|    └─Conv2d: 2-9                       73,856\n",
      "|    └─BatchNorm2d: 2-10                 256\n",
      "|    └─ReLU: 2-11                        --\n",
      "|    └─Conv2d: 2-12                      147,584\n",
      "|    └─BatchNorm2d: 2-13                 256\n",
      "|    └─ReLU: 2-14                        --\n",
      "|    └─MaxPool2d: 2-15                   --\n",
      "|    └─Dropout: 2-16                     --\n",
      "├─Flatten: 1-2                           --\n",
      "├─Linear: 1-3                            819,300\n",
      "=================================================================\n",
      "Total params: 1,080,228\n",
      "Trainable params: 1,080,228\n",
      "Non-trainable params: 0\n",
      "=================================================================\n"
     ]
    },
    {
     "data": {
      "text/plain": [
       "torch.Size([5, 100])"
      ]
     },
     "execution_count": 3,
     "metadata": {},
     "output_type": "execute_result"
    }
   ],
   "source": [
    "model = CNN(32, [64, 128], 3, 1, 1)\n",
    "x = torch.randn(5, 3, 32, 32)\n",
    "torchsummary.summary(model)\n",
    "out = model(x)\n",
    "out.shape"
   ]
  },
  {
   "cell_type": "markdown",
   "metadata": {
    "id": "4zTkk2as9-7d"
   },
   "source": [
    "## Cifar100"
   ]
  },
  {
   "cell_type": "code",
   "execution_count": 67,
   "metadata": {
    "colab": {
     "base_uri": "https://localhost:8080/"
    },
    "executionInfo": {
     "elapsed": 2,
     "status": "ok",
     "timestamp": 1734001446418,
     "user": {
      "displayName": "Huy Nguyen Truong",
      "userId": "14928430703065049539"
     },
     "user_tz": -420
    },
    "id": "7FLQHg5k9-7d",
    "outputId": "d09a3563-a2b2-42d8-c0d5-e36859f5982c"
   },
   "outputs": [
    {
     "name": "stdout",
     "output_type": "stream",
     "text": [
      "cuda\n"
     ]
    }
   ],
   "source": [
    "device = torch.device(\"cuda\" if torch.cuda.is_available() else \"cpu\")\n",
    "print(device)"
   ]
  },
  {
   "cell_type": "markdown",
   "metadata": {
    "id": "e2pelpw-9-7d"
   },
   "source": [
    "### Prepare data"
   ]
  },
  {
   "cell_type": "code",
   "execution_count": 68,
   "metadata": {
    "colab": {
     "base_uri": "https://localhost:8080/"
    },
    "executionInfo": {
     "elapsed": 2351,
     "status": "ok",
     "timestamp": 1734001448768,
     "user": {
      "displayName": "Huy Nguyen Truong",
      "userId": "14928430703065049539"
     },
     "user_tz": -420
    },
    "id": "3btATnE39-7d",
    "outputId": "dd1ec2d9-785f-4cee-a8d7-54265694de0a"
   },
   "outputs": [
    {
     "name": "stdout",
     "output_type": "stream",
     "text": [
      "Files already downloaded and verified\n",
      "Files already downloaded and verified\n"
     ]
    }
   ],
   "source": [
    "transform_train = transforms.Compose([\n",
    "    transforms.RandomCrop(32, padding=4),\n",
    "    transforms.RandomHorizontalFlip(),\n",
    "    transforms.ToTensor(),\n",
    "    transforms.Normalize((0.5071, 0.4867, 0.4408), (0.2675, 0.2565, 0.2761))\n",
    "])\n",
    "\n",
    "transform_test = transforms.Compose([\n",
    "    transforms.ToTensor(),\n",
    "    transforms.Normalize((0.5071, 0.4867, 0.4408), (0.2675, 0.2565, 0.2761))\n",
    "])\n",
    "\n",
    "\n",
    "trainset = torchvision.datasets.CIFAR100(root='./data', train=True, download=True, transform=transform_train)\n",
    "\n",
    "testset = torchvision.datasets.CIFAR100(root='./data', train=False, download=True, transform=transform_test)"
   ]
  },
  {
   "cell_type": "markdown",
   "metadata": {
    "id": "o5OAevoH9-7e"
   },
   "source": [
    "### Config"
   ]
  },
  {
   "cell_type": "code",
   "execution_count": 69,
   "metadata": {
    "executionInfo": {
     "elapsed": 4,
     "status": "ok",
     "timestamp": 1734001448768,
     "user": {
      "displayName": "Huy Nguyen Truong",
      "userId": "14928430703065049539"
     },
     "user_tz": -420
    },
    "id": "oqOcO2mJ9-7e"
   },
   "outputs": [],
   "source": [
    "checkpoint_id = 1\n",
    "folder_path = f'./CNN/Cifar100/checkpoint{checkpoint_id}/'\n",
    "kernel_size = 3\n",
    "stride = 1\n",
    "padding = 1\n",
    "image_size = 32\n",
    "out_channels = [32, 64]\n",
    "num_classes = len(trainset.classes)\n",
    "batch_size = 256\n",
    "num_epochs = 100\n",
    "learning_rate = 0.001\n",
    "\n",
    "os.makedirs(folder_path, exist_ok=True)\n",
    "\n",
    "config = {\n",
    "    \"checkpoint_id\": checkpoint_id,\n",
    "    \"folder_path\": folder_path,\n",
    "    \"kernel_size\": kernel_size,\n",
    "    \"stride\": stride,\n",
    "    \"padding\": padding,\n",
    "    \"image_size\": image_size,\n",
    "    \"out_channels\": out_channels,\n",
    "    \"num_classes\": num_classes,\n",
    "    \"batch_size\": batch_size,\n",
    "    \"num_epochs\": num_epochs,\n",
    "    \"learning_rate\": learning_rate\n",
    "}\n",
    "\n",
    "with open(folder_path + \"config.json\", \"w\") as f:\n",
    "    json.dump(config, f, indent=4)"
   ]
  },
  {
   "cell_type": "code",
   "execution_count": 70,
   "metadata": {
    "colab": {
     "base_uri": "https://localhost:8080/"
    },
    "executionInfo": {
     "elapsed": 5,
     "status": "ok",
     "timestamp": 1734001448769,
     "user": {
      "displayName": "Huy Nguyen Truong",
      "userId": "14928430703065049539"
     },
     "user_tz": -420
    },
    "id": "cSPj_ZpE9-7e",
    "outputId": "a00257dd-dd30-4773-8b47-4e6346d05649"
   },
   "outputs": [
    {
     "name": "stdout",
     "output_type": "stream",
     "text": [
      "CNN(\n",
      "  (layers): Sequential(\n",
      "    (0): Conv2d(3, 32, kernel_size=(3, 3), stride=(1, 1), padding=(1, 1))\n",
      "    (1): BatchNorm2d(32, eps=1e-05, momentum=0.1, affine=True, track_running_stats=True)\n",
      "    (2): ReLU(inplace=True)\n",
      "    (3): Conv2d(32, 32, kernel_size=(3, 3), stride=(1, 1), padding=(1, 1))\n",
      "    (4): BatchNorm2d(32, eps=1e-05, momentum=0.1, affine=True, track_running_stats=True)\n",
      "    (5): ReLU(inplace=True)\n",
      "    (6): MaxPool2d(kernel_size=2, stride=2, padding=0, dilation=1, ceil_mode=False)\n",
      "    (7): Dropout(p=0.5, inplace=False)\n",
      "    (8): Conv2d(32, 64, kernel_size=(3, 3), stride=(1, 1), padding=(1, 1))\n",
      "    (9): BatchNorm2d(64, eps=1e-05, momentum=0.1, affine=True, track_running_stats=True)\n",
      "    (10): ReLU(inplace=True)\n",
      "    (11): Conv2d(64, 64, kernel_size=(3, 3), stride=(1, 1), padding=(1, 1))\n",
      "    (12): BatchNorm2d(64, eps=1e-05, momentum=0.1, affine=True, track_running_stats=True)\n",
      "    (13): ReLU(inplace=True)\n",
      "    (14): MaxPool2d(kernel_size=2, stride=2, padding=0, dilation=1, ceil_mode=False)\n",
      "    (15): Dropout(p=0.5, inplace=False)\n",
      "  )\n",
      "  (flatten): Flatten(start_dim=1, end_dim=-1)\n",
      "  (fc): Linear(in_features=4096, out_features=100, bias=True)\n",
      ")\n"
     ]
    }
   ],
   "source": [
    "model = CNN(image_size, out_channels, kernel_size, stride, padding, num_classes=num_classes).to(device)\n",
    "trainloader = DataLoader(trainset, batch_size=batch_size, shuffle=True, num_workers=0)\n",
    "testloader = DataLoader(testset, batch_size=batch_size, shuffle=False, num_workers=0)\n",
    "criterion = nn.CrossEntropyLoss()\n",
    "optimizer = optim.Adam(model.parameters(), lr=learning_rate, weight_decay=5e-4)\n",
    "scheduler = optim.lr_scheduler.OneCycleLR(optimizer, max_lr=learning_rate, steps_per_epoch=len(trainloader), epochs=num_epochs)\n",
    "print(model)"
   ]
  },
  {
   "cell_type": "code",
   "execution_count": 71,
   "metadata": {
    "colab": {
     "base_uri": "https://localhost:8080/",
     "height": 485
    },
    "executionInfo": {
     "elapsed": 407,
     "status": "ok",
     "timestamp": 1734001449172,
     "user": {
      "displayName": "Huy Nguyen Truong",
      "userId": "14928430703065049539"
     },
     "user_tz": -420
    },
    "id": "EoLN0pXS9-7e",
    "outputId": "75d6fbf9-4dc0-4808-8a72-871d6776391e"
   },
   "outputs": [
    {
     "name": "stderr",
     "output_type": "stream",
     "text": [
      "WARNING:matplotlib.image:Clipping input data to the valid range for imshow with RGB data ([0..1] for floats or [0..255] for integers).\n"
     ]
    },
    {
     "data": {
      "text/plain": [
       "<matplotlib.image.AxesImage at 0x7c2e5c7a2770>"
      ]
     },
     "execution_count": 71,
     "metadata": {},
     "output_type": "execute_result"
    },
    {
     "data": {
      "image/png": "[encoded data removed]",
      "text/plain": [
       "<Figure size 640x480 with 1 Axes>"
      ]
     },
     "metadata": {},
     "output_type": "display_data"
    }
   ],
   "source": [
    "data_iter = iter(trainloader)\n",
    "images, labels = next(data_iter)\n",
    "\n",
    "image = images[0].permute(1, 2, 0).numpy()\n",
    "\n",
    "plt.imshow(image)"
   ]
  },
  {
   "cell_type": "code",
   "execution_count": 72,
   "metadata": {
    "colab": {
     "base_uri": "https://localhost:8080/"
    },
    "executionInfo": {
     "elapsed": 4,
     "status": "ok",
     "timestamp": 1734001449172,
     "user": {
      "displayName": "Huy Nguyen Truong",
      "userId": "14928430703065049539"
     },
     "user_tz": -420
    },
    "id": "pPSV9Yqx9-7f",
    "outputId": "9b66cb5b-6e53-40d8-d5e0-b31b5e55fe60"
   },
   "outputs": [
    {
     "name": "stdout",
     "output_type": "stream",
     "text": [
      "Size: (32, 32, 3)\n",
      "Train: 50000\n",
      "Test: 10000\n",
      "Classes: 100\n"
     ]
    }
   ],
   "source": [
    "print(f'Size: {image.shape}')\n",
    "print(f'Train: {len(trainset)}')\n",
    "print(f'Test: {len(testset)}')\n",
    "print(f'Classes: {len(trainset.classes)}')"
   ]
  },
  {
   "cell_type": "markdown",
   "metadata": {
    "id": "fhre_jBG9-7f"
   },
   "source": [
    "### Train, test"
   ]
  },
  {
   "cell_type": "code",
   "execution_count": 73,
   "metadata": {
    "executionInfo": {
     "elapsed": 3,
     "status": "ok",
     "timestamp": 1734001449172,
     "user": {
      "displayName": "Huy Nguyen Truong",
      "userId": "14928430703065049539"
     },
     "user_tz": -420
    },
    "id": "AJHBulck9-7f"
   },
   "outputs": [],
   "source": [
    "def train(model, trainloader, criterion, optimizer, scheduler, device, folder_path, num_epochs=10):\n",
    "    model.train()\n",
    "    epoch_losses = []\n",
    "    start = time.time()\n",
    "    for epoch in tqdm(range(num_epochs)):\n",
    "        running_loss = 0\n",
    "        for i, (inputs, labels) in enumerate(trainloader, 0):\n",
    "            # print(i)\n",
    "            inputs, labels = inputs.to(device), labels.to(device)\n",
    "\n",
    "            optimizer.zero_grad()\n",
    "\n",
    "            outputs = model(inputs)\n",
    "            loss = criterion(outputs, labels)\n",
    "            loss.backward()\n",
    "            optimizer.step()\n",
    "\n",
    "            running_loss += loss.item()\n",
    "        running_loss = running_loss / len(trainloader)\n",
    "        print(f'Epoch [{epoch+1}/{num_epochs}], Loss: {running_loss:.4f}')\n",
    "        epoch_losses.append(running_loss)\n",
    "        scheduler.step()\n",
    "    end = time.time()\n",
    "    training_time = (end - start) / 3600\n",
    "\n",
    "    plt.plot(range(1, num_epochs + 1), epoch_losses)\n",
    "    plt.title('Training Loss per Epoch')\n",
    "    plt.suptitle(f'Training time: {training_time:.2f} hours')\n",
    "    plt.xlabel('Epoch')\n",
    "    plt.ylabel('Loss')\n",
    "    plt.savefig(folder_path + 'training_loss.png')\n",
    "    plt.show()\n",
    "\n",
    "    torch.save(model.state_dict(), folder_path + 'model_weights.pth')\n",
    "\n",
    "def evaluate(model, testloader, device, folder_path):\n",
    "    model.eval()\n",
    "    all_labels = []\n",
    "    all_predictions = []\n",
    "\n",
    "    with torch.no_grad():\n",
    "        for inputs, labels in testloader:\n",
    "            inputs, labels = inputs.to(device), labels.to(device)\n",
    "            outputs = model(inputs)\n",
    "            _, predicted = torch.max(outputs.data, 1)\n",
    "\n",
    "            all_labels.extend(labels.cpu().numpy())\n",
    "            all_predictions.extend(predicted.cpu().numpy())\n",
    "\n",
    "    correct = sum([1 for a, p in zip(all_labels, all_predictions) if a == p])\n",
    "    total = len(all_labels)\n",
    "    accuracy = 100 * correct / total\n",
    "    report = classification_report(all_labels, all_predictions)\n",
    "    print(f'Accuracy: {accuracy:.2f}%')\n",
    "    print(\"Classification Report:\")\n",
    "    print(report)\n",
    "\n",
    "    with open(folder_path + 'report.txt', \"w\") as f:\n",
    "        f.write(f'Accuracy: {accuracy:.2f}%\\n')\n",
    "        f.write(\"Classification Report:\\n\\n\")\n",
    "        f.write(report)\n"
   ]
  },
  {
   "cell_type": "code",
   "execution_count": 74,
   "metadata": {
    "colab": {
     "base_uri": "https://localhost:8080/",
     "height": 0
    },
    "executionInfo": {
     "elapsed": 2616970,
     "status": "ok",
     "timestamp": 1734004066139,
     "user": {
      "displayName": "Huy Nguyen Truong",
      "userId": "14928430703065049539"
     },
     "user_tz": -420
    },
    "id": "KDhPEMfN9-7f",
    "outputId": "8bacc063-5a3b-4a78-d449-5a5d999ccb50"
   },
   "outputs": [
    {
     "name": "stderr",
     "output_type": "stream",
     "text": [
      "  1%|          | 1/100 [00:27<44:52, 27.20s/it]"
     ]
    },
    {
     "name": "stdout",
     "output_type": "stream",
     "text": [
      "Epoch [1/100], Loss: 4.6238\n"
     ]
    },
    {
     "name": "stderr",
     "output_type": "stream",
     "text": [
      "\r  2%|▏         | 2/100 [00:53<43:18, 26.52s/it]"
     ]
    },
    {
     "name": "stdout",
     "output_type": "stream",
     "text": [
      "Epoch [2/100], Loss: 4.2176\n"
     ]
    },
    {
     "name": "stderr",
     "output_type": "stream",
     "text": [
      "\r  3%|▎         | 3/100 [01:19<42:44, 26.44s/it]"
     ]
    },
    {
     "name": "stdout",
     "output_type": "stream",
     "text": [
      "Epoch [3/100], Loss: 4.0395\n"
     ]
    },
    {
     "name": "stderr",
     "output_type": "stream",
     "text": [
      "\r  4%|▍         | 4/100 [01:45<42:14, 26.40s/it]"
     ]
    },
    {
     "name": "stdout",
     "output_type": "stream",
     "text": [
      "Epoch [4/100], Loss: 3.9220\n"
     ]
    },
    {
     "name": "stderr",
     "output_type": "stream",
     "text": [
      "\r  5%|▌         | 5/100 [02:12<41:39, 26.32s/it]"
     ]
    },
    {
     "name": "stdout",
     "output_type": "stream",
     "text": [
      "Epoch [5/100], Loss: 3.8307\n"
     ]
    },
    {
     "name": "stderr",
     "output_type": "stream",
     "text": [
      "\r  6%|▌         | 6/100 [02:38<41:11, 26.30s/it]"
     ]
    },
    {
     "name": "stdout",
     "output_type": "stream",
     "text": [
      "Epoch [6/100], Loss: 3.7456\n"
     ]
    },
    {
     "name": "stderr",
     "output_type": "stream",
     "text": [
      "\r  7%|▋         | 7/100 [03:04<40:45, 26.29s/it]"
     ]
    },
    {
     "name": "stdout",
     "output_type": "stream",
     "text": [
      "Epoch [7/100], Loss: 3.6698\n"
     ]
    },
    {
     "name": "stderr",
     "output_type": "stream",
     "text": [
      "\r  8%|▊         | 8/100 [03:31<40:40, 26.53s/it]"
     ]
    },
    {
     "name": "stdout",
     "output_type": "stream",
     "text": [
      "Epoch [8/100], Loss: 3.6095\n"
     ]
    },
    {
     "name": "stderr",
     "output_type": "stream",
     "text": [
      "\r  9%|▉         | 9/100 [03:57<40:01, 26.39s/it]"
     ]
    },
    {
     "name": "stdout",
     "output_type": "stream",
     "text": [
      "Epoch [9/100], Loss: 3.5413\n"
     ]
    },
    {
     "name": "stderr",
     "output_type": "stream",
     "text": [
      "\r 10%|█         | 10/100 [04:23<39:24, 26.27s/it]"
     ]
    },
    {
     "name": "stdout",
     "output_type": "stream",
     "text": [
      "Epoch [10/100], Loss: 3.4909\n"
     ]
    },
    {
     "name": "stderr",
     "output_type": "stream",
     "text": [
      "\r 11%|█         | 11/100 [04:49<38:55, 26.24s/it]"
     ]
    },
    {
     "name": "stdout",
     "output_type": "stream",
     "text": [
      "Epoch [11/100], Loss: 3.4523\n"
     ]
    },
    {
     "name": "stderr",
     "output_type": "stream",
     "text": [
      "\r 12%|█▏        | 12/100 [05:16<38:26, 26.21s/it]"
     ]
    },
    {
     "name": "stdout",
     "output_type": "stream",
     "text": [
      "Epoch [12/100], Loss: 3.4049\n"
     ]
    },
    {
     "name": "stderr",
     "output_type": "stream",
     "text": [
      "\r 13%|█▎        | 13/100 [05:41<37:51, 26.11s/it]"
     ]
    },
    {
     "name": "stdout",
     "output_type": "stream",
     "text": [
      "Epoch [13/100], Loss: 3.3780\n"
     ]
    },
    {
     "name": "stderr",
     "output_type": "stream",
     "text": [
      "\r 14%|█▍        | 14/100 [06:07<37:20, 26.05s/it]"
     ]
    },
    {
     "name": "stdout",
     "output_type": "stream",
     "text": [
      "Epoch [14/100], Loss: 3.3436\n"
     ]
    },
    {
     "name": "stderr",
     "output_type": "stream",
     "text": [
      "\r 15%|█▌        | 15/100 [06:33<36:47, 25.97s/it]"
     ]
    },
    {
     "name": "stdout",
     "output_type": "stream",
     "text": [
      "Epoch [15/100], Loss: 3.3059\n"
     ]
    },
    {
     "name": "stderr",
     "output_type": "stream",
     "text": [
      "\r 16%|█▌        | 16/100 [06:59<36:14, 25.88s/it]"
     ]
    },
    {
     "name": "stdout",
     "output_type": "stream",
     "text": [
      "Epoch [16/100], Loss: 3.2766\n"
     ]
    },
    {
     "name": "stderr",
     "output_type": "stream",
     "text": [
      "\r 17%|█▋        | 17/100 [07:25<35:43, 25.82s/it]"
     ]
    },
    {
     "name": "stdout",
     "output_type": "stream",
     "text": [
      "Epoch [17/100], Loss: 3.2532\n"
     ]
    },
    {
     "name": "stderr",
     "output_type": "stream",
     "text": [
      "\r 18%|█▊        | 18/100 [07:50<35:16, 25.81s/it]"
     ]
    },
    {
     "name": "stdout",
     "output_type": "stream",
     "text": [
      "Epoch [18/100], Loss: 3.2287\n"
     ]
    },
    {
     "name": "stderr",
     "output_type": "stream",
     "text": [
      "\r 19%|█▉        | 19/100 [08:17<35:11, 26.07s/it]"
     ]
    },
    {
     "name": "stdout",
     "output_type": "stream",
     "text": [
      "Epoch [19/100], Loss: 3.2002\n"
     ]
    },
    {
     "name": "stderr",
     "output_type": "stream",
     "text": [
      "\r 20%|██        | 20/100 [08:43<34:33, 25.91s/it]"
     ]
    },
    {
     "name": "stdout",
     "output_type": "stream",
     "text": [
      "Epoch [20/100], Loss: 3.1699\n"
     ]
    },
    {
     "name": "stderr",
     "output_type": "stream",
     "text": [
      "\r 21%|██        | 21/100 [09:08<34:03, 25.86s/it]"
     ]
    },
    {
     "name": "stdout",
     "output_type": "stream",
     "text": [
      "Epoch [21/100], Loss: 3.1508\n"
     ]
    },
    {
     "name": "stderr",
     "output_type": "stream",
     "text": [
      "\r 22%|██▏       | 22/100 [09:34<33:34, 25.83s/it]"
     ]
    },
    {
     "name": "stdout",
     "output_type": "stream",
     "text": [
      "Epoch [22/100], Loss: 3.1294\n"
     ]
    },
    {
     "name": "stderr",
     "output_type": "stream",
     "text": [
      "\r 23%|██▎       | 23/100 [10:00<33:06, 25.80s/it]"
     ]
    },
    {
     "name": "stdout",
     "output_type": "stream",
     "text": [
      "Epoch [23/100], Loss: 3.0971\n"
     ]
    },
    {
     "name": "stderr",
     "output_type": "stream",
     "text": [
      "\r 24%|██▍       | 24/100 [10:26<32:42, 25.82s/it]"
     ]
    },
    {
     "name": "stdout",
     "output_type": "stream",
     "text": [
      "Epoch [24/100], Loss: 3.0814\n"
     ]
    },
    {
     "name": "stderr",
     "output_type": "stream",
     "text": [
      "\r 25%|██▌       | 25/100 [10:51<32:11, 25.75s/it]"
     ]
    },
    {
     "name": "stdout",
     "output_type": "stream",
     "text": [
      "Epoch [25/100], Loss: 3.0598\n"
     ]
    },
    {
     "name": "stderr",
     "output_type": "stream",
     "text": [
      "\r 26%|██▌       | 26/100 [11:17<31:44, 25.73s/it]"
     ]
    },
    {
     "name": "stdout",
     "output_type": "stream",
     "text": [
      "Epoch [26/100], Loss: 3.0336\n"
     ]
    },
    {
     "name": "stderr",
     "output_type": "stream",
     "text": [
      "\r 27%|██▋       | 27/100 [11:43<31:21, 25.77s/it]"
     ]
    },
    {
     "name": "stdout",
     "output_type": "stream",
     "text": [
      "Epoch [27/100], Loss: 3.0118\n"
     ]
    },
    {
     "name": "stderr",
     "output_type": "stream",
     "text": [
      "\r 28%|██▊       | 28/100 [12:09<30:55, 25.77s/it]"
     ]
    },
    {
     "name": "stdout",
     "output_type": "stream",
     "text": [
      "Epoch [28/100], Loss: 2.9864\n"
     ]
    },
    {
     "name": "stderr",
     "output_type": "stream",
     "text": [
      "\r 29%|██▉       | 29/100 [12:34<30:31, 25.79s/it]"
     ]
    },
    {
     "name": "stdout",
     "output_type": "stream",
     "text": [
      "Epoch [29/100], Loss: 2.9633\n"
     ]
    },
    {
     "name": "stderr",
     "output_type": "stream",
     "text": [
      "\r 30%|███       | 30/100 [13:00<30:04, 25.78s/it]"
     ]
    },
    {
     "name": "stdout",
     "output_type": "stream",
     "text": [
      "Epoch [30/100], Loss: 2.9437\n"
     ]
    },
    {
     "name": "stderr",
     "output_type": "stream",
     "text": [
      "\r 31%|███       | 31/100 [13:27<30:00, 26.09s/it]"
     ]
    },
    {
     "name": "stdout",
     "output_type": "stream",
     "text": [
      "Epoch [31/100], Loss: 2.9187\n"
     ]
    },
    {
     "name": "stderr",
     "output_type": "stream",
     "text": [
      "\r 32%|███▏      | 32/100 [13:53<29:35, 26.11s/it]"
     ]
    },
    {
     "name": "stdout",
     "output_type": "stream",
     "text": [
      "Epoch [32/100], Loss: 2.9012\n"
     ]
    },
    {
     "name": "stderr",
     "output_type": "stream",
     "text": [
      "\r 33%|███▎      | 33/100 [14:19<29:11, 26.14s/it]"
     ]
    },
    {
     "name": "stdout",
     "output_type": "stream",
     "text": [
      "Epoch [33/100], Loss: 2.8814\n"
     ]
    },
    {
     "name": "stderr",
     "output_type": "stream",
     "text": [
      "\r 34%|███▍      | 34/100 [14:45<28:36, 26.01s/it]"
     ]
    },
    {
     "name": "stdout",
     "output_type": "stream",
     "text": [
      "Epoch [34/100], Loss: 2.8616\n"
     ]
    },
    {
     "name": "stderr",
     "output_type": "stream",
     "text": [
      "\r 35%|███▌      | 35/100 [15:11<28:12, 26.03s/it]"
     ]
    },
    {
     "name": "stdout",
     "output_type": "stream",
     "text": [
      "Epoch [35/100], Loss: 2.8471\n"
     ]
    },
    {
     "name": "stderr",
     "output_type": "stream",
     "text": [
      "\r 36%|███▌      | 36/100 [15:38<28:00, 26.26s/it]"
     ]
    },
    {
     "name": "stdout",
     "output_type": "stream",
     "text": [
      "Epoch [36/100], Loss: 2.8326\n"
     ]
    },
    {
     "name": "stderr",
     "output_type": "stream",
     "text": [
      "\r 37%|███▋      | 37/100 [16:04<27:30, 26.19s/it]"
     ]
    },
    {
     "name": "stdout",
     "output_type": "stream",
     "text": [
      "Epoch [37/100], Loss: 2.8158\n"
     ]
    },
    {
     "name": "stderr",
     "output_type": "stream",
     "text": [
      "\r 38%|███▊      | 38/100 [16:30<27:00, 26.13s/it]"
     ]
    },
    {
     "name": "stdout",
     "output_type": "stream",
     "text": [
      "Epoch [38/100], Loss: 2.7957\n"
     ]
    },
    {
     "name": "stderr",
     "output_type": "stream",
     "text": [
      "\r 39%|███▉      | 39/100 [16:56<26:30, 26.07s/it]"
     ]
    },
    {
     "name": "stdout",
     "output_type": "stream",
     "text": [
      "Epoch [39/100], Loss: 2.7848\n"
     ]
    },
    {
     "name": "stderr",
     "output_type": "stream",
     "text": [
      "\r 40%|████      | 40/100 [17:22<26:01, 26.02s/it]"
     ]
    },
    {
     "name": "stdout",
     "output_type": "stream",
     "text": [
      "Epoch [40/100], Loss: 2.7664\n"
     ]
    },
    {
     "name": "stderr",
     "output_type": "stream",
     "text": [
      "\r 41%|████      | 41/100 [17:48<25:33, 25.98s/it]"
     ]
    },
    {
     "name": "stdout",
     "output_type": "stream",
     "text": [
      "Epoch [41/100], Loss: 2.7565\n"
     ]
    },
    {
     "name": "stderr",
     "output_type": "stream",
     "text": [
      "\r 42%|████▏     | 42/100 [18:14<25:19, 26.20s/it]"
     ]
    },
    {
     "name": "stdout",
     "output_type": "stream",
     "text": [
      "Epoch [42/100], Loss: 2.7435\n"
     ]
    },
    {
     "name": "stderr",
     "output_type": "stream",
     "text": [
      "\r 43%|████▎     | 43/100 [18:41<24:53, 26.21s/it]"
     ]
    },
    {
     "name": "stdout",
     "output_type": "stream",
     "text": [
      "Epoch [43/100], Loss: 2.7241\n"
     ]
    },
    {
     "name": "stderr",
     "output_type": "stream",
     "text": [
      "\r 44%|████▍     | 44/100 [19:07<24:31, 26.27s/it]"
     ]
    },
    {
     "name": "stdout",
     "output_type": "stream",
     "text": [
      "Epoch [44/100], Loss: 2.7196\n"
     ]
    },
    {
     "name": "stderr",
     "output_type": "stream",
     "text": [
      "\r 45%|████▌     | 45/100 [19:33<24:00, 26.20s/it]"
     ]
    },
    {
     "name": "stdout",
     "output_type": "stream",
     "text": [
      "Epoch [45/100], Loss: 2.7060\n"
     ]
    },
    {
     "name": "stderr",
     "output_type": "stream",
     "text": [
      "\r 46%|████▌     | 46/100 [19:59<23:36, 26.22s/it]"
     ]
    },
    {
     "name": "stdout",
     "output_type": "stream",
     "text": [
      "Epoch [46/100], Loss: 2.6966\n"
     ]
    },
    {
     "name": "stderr",
     "output_type": "stream",
     "text": [
      "\r 47%|████▋     | 47/100 [20:26<23:14, 26.32s/it]"
     ]
    },
    {
     "name": "stdout",
     "output_type": "stream",
     "text": [
      "Epoch [47/100], Loss: 2.6720\n"
     ]
    },
    {
     "name": "stderr",
     "output_type": "stream",
     "text": [
      "\r 48%|████▊     | 48/100 [20:52<22:44, 26.24s/it]"
     ]
    },
    {
     "name": "stdout",
     "output_type": "stream",
     "text": [
      "Epoch [48/100], Loss: 2.6656\n"
     ]
    },
    {
     "name": "stderr",
     "output_type": "stream",
     "text": [
      "\r 49%|████▉     | 49/100 [21:18<22:18, 26.24s/it]"
     ]
    },
    {
     "name": "stdout",
     "output_type": "stream",
     "text": [
      "Epoch [49/100], Loss: 2.6602\n"
     ]
    },
    {
     "name": "stderr",
     "output_type": "stream",
     "text": [
      "\r 50%|█████     | 50/100 [21:44<21:53, 26.26s/it]"
     ]
    },
    {
     "name": "stdout",
     "output_type": "stream",
     "text": [
      "Epoch [50/100], Loss: 2.6421\n"
     ]
    },
    {
     "name": "stderr",
     "output_type": "stream",
     "text": [
      "\r 51%|█████     | 51/100 [22:11<21:29, 26.31s/it]"
     ]
    },
    {
     "name": "stdout",
     "output_type": "stream",
     "text": [
      "Epoch [51/100], Loss: 2.6392\n"
     ]
    },
    {
     "name": "stderr",
     "output_type": "stream",
     "text": [
      "\r 52%|█████▏    | 52/100 [22:37<21:01, 26.27s/it]"
     ]
    },
    {
     "name": "stdout",
     "output_type": "stream",
     "text": [
      "Epoch [52/100], Loss: 2.6253\n"
     ]
    },
    {
     "name": "stderr",
     "output_type": "stream",
     "text": [
      "\r 53%|█████▎    | 53/100 [23:03<20:34, 26.26s/it]"
     ]
    },
    {
     "name": "stdout",
     "output_type": "stream",
     "text": [
      "Epoch [53/100], Loss: 2.6156\n"
     ]
    },
    {
     "name": "stderr",
     "output_type": "stream",
     "text": [
      "\r 54%|█████▍    | 54/100 [23:30<20:20, 26.53s/it]"
     ]
    },
    {
     "name": "stdout",
     "output_type": "stream",
     "text": [
      "Epoch [54/100], Loss: 2.6143\n"
     ]
    },
    {
     "name": "stderr",
     "output_type": "stream",
     "text": [
      "\r 55%|█████▌    | 55/100 [23:57<19:52, 26.49s/it]"
     ]
    },
    {
     "name": "stdout",
     "output_type": "stream",
     "text": [
      "Epoch [55/100], Loss: 2.5991\n"
     ]
    },
    {
     "name": "stderr",
     "output_type": "stream",
     "text": [
      "\r 56%|█████▌    | 56/100 [24:23<19:24, 26.46s/it]"
     ]
    },
    {
     "name": "stdout",
     "output_type": "stream",
     "text": [
      "Epoch [56/100], Loss: 2.5826\n"
     ]
    },
    {
     "name": "stderr",
     "output_type": "stream",
     "text": [
      "\r 57%|█████▋    | 57/100 [24:50<18:55, 26.41s/it]"
     ]
    },
    {
     "name": "stdout",
     "output_type": "stream",
     "text": [
      "Epoch [57/100], Loss: 2.5718\n"
     ]
    },
    {
     "name": "stderr",
     "output_type": "stream",
     "text": [
      "\r 58%|█████▊    | 58/100 [25:16<18:27, 26.38s/it]"
     ]
    },
    {
     "name": "stdout",
     "output_type": "stream",
     "text": [
      "Epoch [58/100], Loss: 2.5710\n"
     ]
    },
    {
     "name": "stderr",
     "output_type": "stream",
     "text": [
      "\r 59%|█████▉    | 59/100 [25:42<18:03, 26.42s/it]"
     ]
    },
    {
     "name": "stdout",
     "output_type": "stream",
     "text": [
      "Epoch [59/100], Loss: 2.5578\n"
     ]
    },
    {
     "name": "stderr",
     "output_type": "stream",
     "text": [
      "\r 60%|██████    | 60/100 [26:09<17:38, 26.45s/it]"
     ]
    },
    {
     "name": "stdout",
     "output_type": "stream",
     "text": [
      "Epoch [60/100], Loss: 2.5506\n"
     ]
    },
    {
     "name": "stderr",
     "output_type": "stream",
     "text": [
      "\r 61%|██████    | 61/100 [26:35<17:13, 26.49s/it]"
     ]
    },
    {
     "name": "stdout",
     "output_type": "stream",
     "text": [
      "Epoch [61/100], Loss: 2.5416\n"
     ]
    },
    {
     "name": "stderr",
     "output_type": "stream",
     "text": [
      "\r 62%|██████▏   | 62/100 [27:02<16:45, 26.47s/it]"
     ]
    },
    {
     "name": "stdout",
     "output_type": "stream",
     "text": [
      "Epoch [62/100], Loss: 2.5387\n"
     ]
    },
    {
     "name": "stderr",
     "output_type": "stream",
     "text": [
      "\r 63%|██████▎   | 63/100 [27:28<16:15, 26.38s/it]"
     ]
    },
    {
     "name": "stdout",
     "output_type": "stream",
     "text": [
      "Epoch [63/100], Loss: 2.5295\n"
     ]
    },
    {
     "name": "stderr",
     "output_type": "stream",
     "text": [
      "\r 64%|██████▍   | 64/100 [27:54<15:48, 26.36s/it]"
     ]
    },
    {
     "name": "stdout",
     "output_type": "stream",
     "text": [
      "Epoch [64/100], Loss: 2.5151\n"
     ]
    },
    {
     "name": "stderr",
     "output_type": "stream",
     "text": [
      "\r 65%|██████▌   | 65/100 [28:22<15:32, 26.65s/it]"
     ]
    },
    {
     "name": "stdout",
     "output_type": "stream",
     "text": [
      "Epoch [65/100], Loss: 2.5160\n"
     ]
    },
    {
     "name": "stderr",
     "output_type": "stream",
     "text": [
      "\r 66%|██████▌   | 66/100 [28:48<15:02, 26.56s/it]"
     ]
    },
    {
     "name": "stdout",
     "output_type": "stream",
     "text": [
      "Epoch [66/100], Loss: 2.5058\n"
     ]
    },
    {
     "name": "stderr",
     "output_type": "stream",
     "text": [
      "\r 67%|██████▋   | 67/100 [29:14<14:35, 26.52s/it]"
     ]
    },
    {
     "name": "stdout",
     "output_type": "stream",
     "text": [
      "Epoch [67/100], Loss: 2.4947\n"
     ]
    },
    {
     "name": "stderr",
     "output_type": "stream",
     "text": [
      "\r 68%|██████▊   | 68/100 [29:41<14:06, 26.45s/it]"
     ]
    },
    {
     "name": "stdout",
     "output_type": "stream",
     "text": [
      "Epoch [68/100], Loss: 2.4898\n"
     ]
    },
    {
     "name": "stderr",
     "output_type": "stream",
     "text": [
      "\r 69%|██████▉   | 69/100 [30:07<13:36, 26.33s/it]"
     ]
    },
    {
     "name": "stdout",
     "output_type": "stream",
     "text": [
      "Epoch [69/100], Loss: 2.4805\n"
     ]
    },
    {
     "name": "stderr",
     "output_type": "stream",
     "text": [
      "\r 70%|███████   | 70/100 [30:33<13:07, 26.24s/it]"
     ]
    },
    {
     "name": "stdout",
     "output_type": "stream",
     "text": [
      "Epoch [70/100], Loss: 2.4765\n"
     ]
    },
    {
     "name": "stderr",
     "output_type": "stream",
     "text": [
      "\r 71%|███████   | 71/100 [30:59<12:43, 26.32s/it]"
     ]
    },
    {
     "name": "stdout",
     "output_type": "stream",
     "text": [
      "Epoch [71/100], Loss: 2.4677\n"
     ]
    },
    {
     "name": "stderr",
     "output_type": "stream",
     "text": [
      "\r 72%|███████▏  | 72/100 [31:26<12:17, 26.34s/it]"
     ]
    },
    {
     "name": "stdout",
     "output_type": "stream",
     "text": [
      "Epoch [72/100], Loss: 2.4585\n"
     ]
    },
    {
     "name": "stderr",
     "output_type": "stream",
     "text": [
      "\r 73%|███████▎  | 73/100 [31:52<11:51, 26.35s/it]"
     ]
    },
    {
     "name": "stdout",
     "output_type": "stream",
     "text": [
      "Epoch [73/100], Loss: 2.4575\n"
     ]
    },
    {
     "name": "stderr",
     "output_type": "stream",
     "text": [
      "\r 74%|███████▍  | 74/100 [32:19<11:27, 26.45s/it]"
     ]
    },
    {
     "name": "stdout",
     "output_type": "stream",
     "text": [
      "Epoch [74/100], Loss: 2.4443\n"
     ]
    },
    {
     "name": "stderr",
     "output_type": "stream",
     "text": [
      "\r 75%|███████▌  | 75/100 [32:45<10:59, 26.37s/it]"
     ]
    },
    {
     "name": "stdout",
     "output_type": "stream",
     "text": [
      "Epoch [75/100], Loss: 2.4426\n"
     ]
    },
    {
     "name": "stderr",
     "output_type": "stream",
     "text": [
      "\r 76%|███████▌  | 76/100 [33:12<10:37, 26.54s/it]"
     ]
    },
    {
     "name": "stdout",
     "output_type": "stream",
     "text": [
      "Epoch [76/100], Loss: 2.4339\n"
     ]
    },
    {
     "name": "stderr",
     "output_type": "stream",
     "text": [
      "\r 77%|███████▋  | 77/100 [33:38<10:07, 26.42s/it]"
     ]
    },
    {
     "name": "stdout",
     "output_type": "stream",
     "text": [
      "Epoch [77/100], Loss: 2.4270\n"
     ]
    },
    {
     "name": "stderr",
     "output_type": "stream",
     "text": [
      "\r 78%|███████▊  | 78/100 [34:05<09:41, 26.45s/it]"
     ]
    },
    {
     "name": "stdout",
     "output_type": "stream",
     "text": [
      "Epoch [78/100], Loss: 2.4265\n"
     ]
    },
    {
     "name": "stderr",
     "output_type": "stream",
     "text": [
      "\r 79%|███████▉  | 79/100 [34:31<09:13, 26.38s/it]"
     ]
    },
    {
     "name": "stdout",
     "output_type": "stream",
     "text": [
      "Epoch [79/100], Loss: 2.4097\n"
     ]
    },
    {
     "name": "stderr",
     "output_type": "stream",
     "text": [
      "\r 80%|████████  | 80/100 [34:57<08:45, 26.28s/it]"
     ]
    },
    {
     "name": "stdout",
     "output_type": "stream",
     "text": [
      "Epoch [80/100], Loss: 2.4098\n"
     ]
    },
    {
     "name": "stderr",
     "output_type": "stream",
     "text": [
      "\r 81%|████████  | 81/100 [35:23<08:17, 26.18s/it]"
     ]
    },
    {
     "name": "stdout",
     "output_type": "stream",
     "text": [
      "Epoch [81/100], Loss: 2.4068\n"
     ]
    },
    {
     "name": "stderr",
     "output_type": "stream",
     "text": [
      "\r 82%|████████▏ | 82/100 [35:49<07:50, 26.16s/it]"
     ]
    },
    {
     "name": "stdout",
     "output_type": "stream",
     "text": [
      "Epoch [82/100], Loss: 2.4032\n"
     ]
    },
    {
     "name": "stderr",
     "output_type": "stream",
     "text": [
      "\r 83%|████████▎ | 83/100 [36:15<07:24, 26.12s/it]"
     ]
    },
    {
     "name": "stdout",
     "output_type": "stream",
     "text": [
      "Epoch [83/100], Loss: 2.3932\n"
     ]
    },
    {
     "name": "stderr",
     "output_type": "stream",
     "text": [
      "\r 84%|████████▍ | 84/100 [36:41<06:57, 26.10s/it]"
     ]
    },
    {
     "name": "stdout",
     "output_type": "stream",
     "text": [
      "Epoch [84/100], Loss: 2.3862\n"
     ]
    },
    {
     "name": "stderr",
     "output_type": "stream",
     "text": [
      "\r 85%|████████▌ | 85/100 [37:07<06:30, 26.02s/it]"
     ]
    },
    {
     "name": "stdout",
     "output_type": "stream",
     "text": [
      "Epoch [85/100], Loss: 2.3823\n"
     ]
    },
    {
     "name": "stderr",
     "output_type": "stream",
     "text": [
      "\r 86%|████████▌ | 86/100 [37:33<06:03, 25.99s/it]"
     ]
    },
    {
     "name": "stdout",
     "output_type": "stream",
     "text": [
      "Epoch [86/100], Loss: 2.3752\n"
     ]
    },
    {
     "name": "stderr",
     "output_type": "stream",
     "text": [
      "\r 87%|████████▋ | 87/100 [38:00<05:41, 26.24s/it]"
     ]
    },
    {
     "name": "stdout",
     "output_type": "stream",
     "text": [
      "Epoch [87/100], Loss: 2.3749\n"
     ]
    },
    {
     "name": "stderr",
     "output_type": "stream",
     "text": [
      "\r 88%|████████▊ | 88/100 [38:26<05:13, 26.17s/it]"
     ]
    },
    {
     "name": "stdout",
     "output_type": "stream",
     "text": [
      "Epoch [88/100], Loss: 2.3594\n"
     ]
    },
    {
     "name": "stderr",
     "output_type": "stream",
     "text": [
      "\r 89%|████████▉ | 89/100 [38:52<04:47, 26.15s/it]"
     ]
    },
    {
     "name": "stdout",
     "output_type": "stream",
     "text": [
      "Epoch [89/100], Loss: 2.3587\n"
     ]
    },
    {
     "name": "stderr",
     "output_type": "stream",
     "text": [
      "\r 90%|█████████ | 90/100 [39:17<04:20, 26.06s/it]"
     ]
    },
    {
     "name": "stdout",
     "output_type": "stream",
     "text": [
      "Epoch [90/100], Loss: 2.3613\n"
     ]
    },
    {
     "name": "stderr",
     "output_type": "stream",
     "text": [
      "\r 91%|█████████ | 91/100 [39:43<03:53, 25.99s/it]"
     ]
    },
    {
     "name": "stdout",
     "output_type": "stream",
     "text": [
      "Epoch [91/100], Loss: 2.3479\n"
     ]
    },
    {
     "name": "stderr",
     "output_type": "stream",
     "text": [
      "\r 92%|█████████▏| 92/100 [40:09<03:27, 25.90s/it]"
     ]
    },
    {
     "name": "stdout",
     "output_type": "stream",
     "text": [
      "Epoch [92/100], Loss: 2.3502\n"
     ]
    },
    {
     "name": "stderr",
     "output_type": "stream",
     "text": [
      "\r 93%|█████████▎| 93/100 [40:35<03:00, 25.82s/it]"
     ]
    },
    {
     "name": "stdout",
     "output_type": "stream",
     "text": [
      "Epoch [93/100], Loss: 2.3411\n"
     ]
    },
    {
     "name": "stderr",
     "output_type": "stream",
     "text": [
      "\r 94%|█████████▍| 94/100 [41:01<02:35, 25.87s/it]"
     ]
    },
    {
     "name": "stdout",
     "output_type": "stream",
     "text": [
      "Epoch [94/100], Loss: 2.3332\n"
     ]
    },
    {
     "name": "stderr",
     "output_type": "stream",
     "text": [
      "\r 95%|█████████▌| 95/100 [41:26<02:09, 25.87s/it]"
     ]
    },
    {
     "name": "stdout",
     "output_type": "stream",
     "text": [
      "Epoch [95/100], Loss: 2.3331\n"
     ]
    },
    {
     "name": "stderr",
     "output_type": "stream",
     "text": [
      "\r 96%|█████████▌| 96/100 [41:52<01:43, 25.82s/it]"
     ]
    },
    {
     "name": "stdout",
     "output_type": "stream",
     "text": [
      "Epoch [96/100], Loss: 2.3322\n"
     ]
    },
    {
     "name": "stderr",
     "output_type": "stream",
     "text": [
      "\r 97%|█████████▋| 97/100 [42:18<01:17, 25.81s/it]"
     ]
    },
    {
     "name": "stdout",
     "output_type": "stream",
     "text": [
      "Epoch [97/100], Loss: 2.3230\n"
     ]
    },
    {
     "name": "stderr",
     "output_type": "stream",
     "text": [
      "\r 98%|█████████▊| 98/100 [42:44<00:51, 25.80s/it]"
     ]
    },
    {
     "name": "stdout",
     "output_type": "stream",
     "text": [
      "Epoch [98/100], Loss: 2.3140\n"
     ]
    },
    {
     "name": "stderr",
     "output_type": "stream",
     "text": [
      "\r 99%|█████████▉| 99/100 [43:10<00:26, 26.08s/it]"
     ]
    },
    {
     "name": "stdout",
     "output_type": "stream",
     "text": [
      "Epoch [99/100], Loss: 2.3137\n"
     ]
    },
    {
     "name": "stderr",
     "output_type": "stream",
     "text": [
      "100%|██████████| 100/100 [43:36<00:00, 26.17s/it]"
     ]
    },
    {
     "name": "stdout",
     "output_type": "stream",
     "text": [
      "Epoch [100/100], Loss: 2.3073\n"
     ]
    },
    {
     "name": "stderr",
     "output_type": "stream",
     "text": [
      "\n"
     ]
    },
    {
     "data": {
      "image/png": "[encoded data removed]",
      "text/plain": [
       "<Figure size 640x480 with 1 Axes>"
      ]
     },
     "metadata": {},
     "output_type": "display_data"
    }
   ],
   "source": [
    "train(model, trainloader, criterion, optimizer, scheduler, device, folder_path, num_epochs=num_epochs)"
   ]
  },
  {
   "cell_type": "code",
   "execution_count": 75,
   "metadata": {
    "colab": {
     "base_uri": "https://localhost:8080/"
    },
    "executionInfo": {
     "elapsed": 2795,
     "status": "ok",
     "timestamp": 1734004068931,
     "user": {
      "displayName": "Huy Nguyen Truong",
      "userId": "14928430703065049539"
     },
     "user_tz": -420
    },
    "id": "A_mKgsW59-7g",
    "outputId": "cc7581a1-bb85-4343-9df6-ec9502191c94"
   },
   "outputs": [
    {
     "name": "stdout",
     "output_type": "stream",
     "text": [
      "Accuracy: 47.00%\n",
      "Classification Report:\n",
      "              precision    recall  f1-score   support\n",
      "\n",
      "           0       0.70      0.72      0.71       100\n",
      "           1       0.59      0.50      0.54       100\n",
      "           2       0.33      0.35      0.34       100\n",
      "           3       0.22      0.17      0.19       100\n",
      "           4       0.25      0.25      0.25       100\n",
      "           5       0.37      0.48      0.42       100\n",
      "           6       0.59      0.54      0.57       100\n",
      "           7       0.41      0.47      0.44       100\n",
      "           8       0.60      0.59      0.60       100\n",
      "           9       0.63      0.61      0.62       100\n",
      "          10       0.44      0.25      0.32       100\n",
      "          11       0.34      0.24      0.28       100\n",
      "          12       0.56      0.37      0.45       100\n",
      "          13       0.53      0.30      0.38       100\n",
      "          14       0.53      0.27      0.36       100\n",
      "          15       0.43      0.30      0.35       100\n",
      "          16       0.68      0.38      0.49       100\n",
      "          17       0.65      0.74      0.69       100\n",
      "          18       0.51      0.35      0.42       100\n",
      "          19       0.54      0.43      0.48       100\n",
      "          20       0.81      0.67      0.73       100\n",
      "          21       0.37      0.74      0.49       100\n",
      "          22       0.63      0.19      0.29       100\n",
      "          23       0.55      0.69      0.61       100\n",
      "          24       0.47      0.73      0.57       100\n",
      "          25       0.48      0.27      0.35       100\n",
      "          26       0.48      0.48      0.48       100\n",
      "          27       0.26      0.43      0.33       100\n",
      "          28       0.66      0.69      0.68       100\n",
      "          29       0.50      0.37      0.43       100\n",
      "          30       0.40      0.63      0.49       100\n",
      "          31       0.41      0.54      0.47       100\n",
      "          32       0.42      0.33      0.37       100\n",
      "          33       0.41      0.50      0.45       100\n",
      "          34       0.36      0.49      0.41       100\n",
      "          35       0.34      0.28      0.31       100\n",
      "          36       0.43      0.47      0.45       100\n",
      "          37       0.40      0.55      0.47       100\n",
      "          38       0.33      0.33      0.33       100\n",
      "          39       0.58      0.32      0.41       100\n",
      "          40       0.57      0.33      0.42       100\n",
      "          41       0.69      0.68      0.68       100\n",
      "          42       0.45      0.54      0.49       100\n",
      "          43       0.36      0.60      0.45       100\n",
      "          44       0.30      0.13      0.18       100\n",
      "          45       0.25      0.27      0.26       100\n",
      "          46       0.44      0.21      0.28       100\n",
      "          47       0.56      0.54      0.55       100\n",
      "          48       0.67      0.80      0.73       100\n",
      "          49       0.58      0.63      0.60       100\n",
      "          50       0.36      0.17      0.23       100\n",
      "          51       0.34      0.47      0.39       100\n",
      "          52       0.53      0.67      0.59       100\n",
      "          53       0.64      0.81      0.71       100\n",
      "          54       0.53      0.75      0.62       100\n",
      "          55       0.17      0.14      0.15       100\n",
      "          56       0.52      0.58      0.55       100\n",
      "          57       0.55      0.54      0.55       100\n",
      "          58       0.45      0.64      0.53       100\n",
      "          59       0.29      0.48      0.36       100\n",
      "          60       0.74      0.76      0.75       100\n",
      "          61       0.44      0.74      0.55       100\n",
      "          62       0.50      0.52      0.51       100\n",
      "          63       0.40      0.45      0.42       100\n",
      "          64       0.26      0.24      0.25       100\n",
      "          65       0.44      0.23      0.30       100\n",
      "          66       0.44      0.37      0.40       100\n",
      "          67       0.47      0.36      0.41       100\n",
      "          68       0.70      0.83      0.76       100\n",
      "          69       0.64      0.67      0.65       100\n",
      "          70       0.47      0.63      0.54       100\n",
      "          71       0.58      0.66      0.62       100\n",
      "          72       0.24      0.12      0.16       100\n",
      "          73       0.43      0.37      0.40       100\n",
      "          74       0.27      0.29      0.28       100\n",
      "          75       0.64      0.64      0.64       100\n",
      "          76       0.76      0.65      0.70       100\n",
      "          77       0.30      0.20      0.24       100\n",
      "          78       0.32      0.24      0.28       100\n",
      "          79       0.45      0.51      0.48       100\n",
      "          80       0.21      0.32      0.26       100\n",
      "          81       0.38      0.73      0.50       100\n",
      "          82       0.73      0.75      0.74       100\n",
      "          83       0.43      0.37      0.40       100\n",
      "          84       0.41      0.36      0.38       100\n",
      "          85       0.44      0.73      0.55       100\n",
      "          86       0.78      0.39      0.52       100\n",
      "          87       0.64      0.61      0.63       100\n",
      "          88       0.47      0.54      0.50       100\n",
      "          89       0.45      0.62      0.52       100\n",
      "          90       0.63      0.40      0.49       100\n",
      "          91       0.60      0.50      0.54       100\n",
      "          92       0.72      0.28      0.40       100\n",
      "          93       0.32      0.23      0.27       100\n",
      "          94       0.70      0.86      0.77       100\n",
      "          95       0.55      0.54      0.55       100\n",
      "          96       0.39      0.39      0.39       100\n",
      "          97       0.35      0.62      0.45       100\n",
      "          98       0.28      0.12      0.17       100\n",
      "          99       0.68      0.17      0.27       100\n",
      "\n",
      "    accuracy                           0.47     10000\n",
      "   macro avg       0.48      0.47      0.46     10000\n",
      "weighted avg       0.48      0.47      0.46     10000\n",
      "\n"
     ]
    }
   ],
   "source": [
    "evaluate(model, testloader, device, folder_path)"
   ]
  }
 ],
 "metadata": {
  "accelerator": "GPU",
  "colab": {
   "gpuType": "T4",
   "provenance": []
  },
  "kernelspec": {
   "display_name": "base",
   "language": "python",
   "name": "python3"
  },
  "language_info": {
   "codemirror_mode": {
    "name": "ipython",
    "version": 3
   },
   "file_extension": ".py",
   "mimetype": "text/x-python",
   "name": "python",
   "nbconvert_exporter": "python",
   "pygments_lexer": "ipython3",
   "version": "3.12.3"
  }
 },
 "nbformat": 4,
 "nbformat_minor": 0
}

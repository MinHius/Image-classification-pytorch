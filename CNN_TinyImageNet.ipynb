{
 "cells": [
  {
   "cell_type": "markdown",
   "metadata": {},
   "source": [
    "## Import thư viện"
   ]
  },
  {
   "cell_type": "code",
   "execution_count": 1,
   "metadata": {},
   "outputs": [
    {
     "name": "stderr",
     "output_type": "stream",
     "text": [
      "c:\\Users\\solit\\anaconda3\\Lib\\site-packages\\tqdm\\auto.py:21: TqdmWarning: IProgress not found. Please update jupyter and ipywidgets. See https://ipywidgets.readthedocs.io/en/stable/user_install.html\n",
      "  from .autonotebook import tqdm as notebook_tqdm\n"
     ]
    }
   ],
   "source": [
    "import torch\n",
    "from torch import nn\n",
    "import torch.optim as optim\n",
    "import torchvision\n",
    "import torchvision.transforms as transforms\n",
    "from torch.utils.data import DataLoader, Dataset\n",
    "import torchsummary\n",
    "from tqdm import tqdm\n",
    "import matplotlib.pyplot as plt\n",
    "from sklearn.metrics import classification_report\n",
    "import time\n",
    "import json\n",
    "import os\n",
    "from datasets import load_dataset\n",
    "import pandas as pd\n",
    "from PIL import Image"
   ]
  },
  {
   "cell_type": "markdown",
   "metadata": {},
   "source": [
    "## Model"
   ]
  },
  {
   "cell_type": "code",
   "execution_count": 2,
   "metadata": {},
   "outputs": [],
   "source": [
    "class CNN(nn.Module):\n",
    "    def __init__(self, image_size, out_channels, kernel_size, stride, padding, num_layers=2, num_blocks_per_layer=2, num_classes=100):\n",
    "        super(CNN, self).__init__()\n",
    "        self.in_channels = 3\n",
    "        self.image_size = image_size\n",
    "        self.layers = self.make_layer(num_layers, num_blocks_per_layer, out_channels, kernel_size=kernel_size, stride=stride, padding=padding, drop_out=0.5)\n",
    "        self.flatten = nn.Flatten()\n",
    "        self.image_size = image_size // (2 ** num_layers)\n",
    "        self.fc = nn.Linear(self.image_size * self.image_size * self.in_channels, num_classes)\n",
    "\n",
    "    def make_layer(self, num_layers, num_blocks_per_layer, out_channels, kernel_size, stride, padding, drop_out):\n",
    "        layers = []\n",
    "        for layer in range(num_layers):\n",
    "            for block in range(num_blocks_per_layer):\n",
    "                layers.extend([nn.Conv2d(self.in_channels, out_channels[layer], kernel_size, stride, padding),\n",
    "                               nn.BatchNorm2d(out_channels[layer]), \n",
    "                               nn.ReLU(inplace=True)])\n",
    "                self.in_channels = out_channels[layer]\n",
    "            layers.extend([nn.MaxPool2d(kernel_size=2), \n",
    "                           nn.Dropout(drop_out)])\n",
    "        return nn.Sequential(*layers)\n",
    "            \n",
    "\n",
    "    def forward(self, x):\n",
    "        x = self.layers(x)\n",
    "        x = self.flatten(x)\n",
    "        x = self.fc(x)\n",
    "        return x"
   ]
  },
  {
   "cell_type": "code",
   "execution_count": 3,
   "metadata": {},
   "outputs": [
    {
     "name": "stdout",
     "output_type": "stream",
     "text": [
      "=================================================================\n",
      "Layer (type:depth-idx)                   Param #\n",
      "=================================================================\n",
      "├─Sequential: 1-1                        --\n",
      "|    └─Conv2d: 2-1                       1,792\n",
      "|    └─BatchNorm2d: 2-2                  128\n",
      "|    └─ReLU: 2-3                         --\n",
      "|    └─Conv2d: 2-4                       36,928\n",
      "|    └─BatchNorm2d: 2-5                  128\n",
      "|    └─ReLU: 2-6                         --\n",
      "|    └─MaxPool2d: 2-7                    --\n",
      "|    └─Dropout: 2-8                      --\n",
      "|    └─Conv2d: 2-9                       73,856\n",
      "|    └─BatchNorm2d: 2-10                 256\n",
      "|    └─ReLU: 2-11                        --\n",
      "|    └─Conv2d: 2-12                      147,584\n",
      "|    └─BatchNorm2d: 2-13                 256\n",
      "|    └─ReLU: 2-14                        --\n",
      "|    └─MaxPool2d: 2-15                   --\n",
      "|    └─Dropout: 2-16                     --\n",
      "|    └─Conv2d: 2-17                      295,168\n",
      "|    └─BatchNorm2d: 2-18                 512\n",
      "|    └─ReLU: 2-19                        --\n",
      "|    └─Conv2d: 2-20                      590,080\n",
      "|    └─BatchNorm2d: 2-21                 512\n",
      "|    └─ReLU: 2-22                        --\n",
      "|    └─MaxPool2d: 2-23                   --\n",
      "|    └─Dropout: 2-24                     --\n",
      "├─Flatten: 1-2                           --\n",
      "├─Linear: 1-3                            1,638,500\n",
      "=================================================================\n",
      "Total params: 2,785,700\n",
      "Trainable params: 2,785,700\n",
      "Non-trainable params: 0\n",
      "=================================================================\n"
     ]
    },
    {
     "data": {
      "text/plain": [
       "torch.Size([5, 100])"
      ]
     },
     "execution_count": 3,
     "metadata": {},
     "output_type": "execute_result"
    }
   ],
   "source": [
    "model = CNN(64, [64, 128, 256], 3, 1, 1, num_layers=3)\n",
    "torchsummary.summary(model)\n",
    "x = torch.randn(5, 3, 64, 64)\n",
    "out = model(x)\n",
    "out.shape"
   ]
  },
  {
   "cell_type": "markdown",
   "metadata": {},
   "source": [
    "## TinyImageNet"
   ]
  },
  {
   "cell_type": "code",
   "execution_count": 4,
   "metadata": {},
   "outputs": [
    {
     "name": "stdout",
     "output_type": "stream",
     "text": [
      "cuda\n"
     ]
    }
   ],
   "source": [
    "device = torch.device(\"cuda\" if torch.cuda.is_available() else \"cpu\")\n",
    "print(device)"
   ]
  },
  {
   "cell_type": "markdown",
   "metadata": {},
   "source": [
    "### Prepare data"
   ]
  },
  {
   "cell_type": "code",
   "execution_count": 5,
   "metadata": {},
   "outputs": [],
   "source": [
    "class TinyImageNetDataset(Dataset):\n",
    "    def __init__(self, root_dir, split='train', transform=None):\n",
    "        self.root_dir = root_dir\n",
    "        self.split = split\n",
    "        self.transform = transform\n",
    "        self.image_dir = os.path.join(root_dir, 'train')\n",
    "        self.classes = sorted(os.listdir(self.image_dir))\n",
    "        self.images = []\n",
    "        self.labels = []\n",
    "\n",
    "        if split == 'train':\n",
    "            for label_idx, class_dir in enumerate(self.classes):\n",
    "                class_images = os.listdir(os.path.join(self.image_dir, class_dir, 'images'))\n",
    "                for img_name in class_images:\n",
    "                    img_path = os.path.join(self.image_dir, class_dir, 'images', img_name)\n",
    "                    if self.is_rgb(img_path):\n",
    "                        self.images.append(os.path.join(class_dir, 'images', img_name))\n",
    "                        self.labels.append(label_idx)\n",
    "\n",
    "        elif split == 'val':\n",
    "            self.image_dir = os.path.join(root_dir, 'val', 'images')\n",
    "            self.annotations_file = os.path.join(root_dir, 'val', 'val_annotations.txt')\n",
    "            annotations = pd.read_csv(self.annotations_file, sep='\\t', header=None)\n",
    "            for img_name, label in zip(annotations[0], annotations[1]):\n",
    "                img_path = os.path.join(self.image_dir, img_name)\n",
    "                if self.is_rgb(img_path):\n",
    "                    self.images.append(img_name)\n",
    "                    self.labels.append(self.classes.index(label))\n",
    "\n",
    "    def is_rgb(self, img_path):\n",
    "        with Image.open(img_path) as img:\n",
    "            return img.mode == 'RGB'\n",
    "\n",
    "    def __len__(self):\n",
    "        return len(self.images)\n",
    "\n",
    "    def __getitem__(self, idx):\n",
    "        img_name = os.path.join(self.image_dir, self.images[idx])\n",
    "        image = Image.open(img_name)\n",
    "\n",
    "        if self.transform:\n",
    "            image = self.transform(image)\n",
    "\n",
    "        label = self.labels[idx]\n",
    "\n",
    "        return image, label\n"
   ]
  },
  {
   "cell_type": "code",
   "execution_count": 6,
   "metadata": {},
   "outputs": [],
   "source": [
    "transform_train = transforms.Compose([\n",
    "    transforms.RandomCrop(64, padding=4),  \n",
    "    transforms.RandomHorizontalFlip(),    \n",
    "    transforms.ToTensor(),\n",
    "    transforms.Normalize((0.485, 0.456, 0.406), (0.229, 0.224, 0.225)) \n",
    "])\n",
    "\n",
    "transform_test = transforms.Compose([\n",
    "    transforms.ToTensor(),\n",
    "    transforms.Normalize((0.485, 0.456, 0.406), (0.229, 0.224, 0.225))\n",
    "])\n",
    "\n",
    "trainset = TinyImageNetDataset(root_dir='./data/tiny-imagenet-200', split='train', transform=transform_train)\n",
    "testset = TinyImageNetDataset(root_dir='./data/tiny-imagenet-200', split='val', transform=transform_test)"
   ]
  },
  {
   "cell_type": "code",
   "execution_count": 7,
   "metadata": {},
   "outputs": [
    {
     "name": "stderr",
     "output_type": "stream",
     "text": [
      "Clipping input data to the valid range for imshow with RGB data ([0..1] for floats or [0..255] for integers).\n"
     ]
    },
    {
     "data": {
      "text/plain": [
       "<matplotlib.image.AxesImage at 0x1295e864530>"
      ]
     },
     "execution_count": 7,
     "metadata": {},
     "output_type": "execute_result"
    },
    {
     "data": {
      "image/png": "[encoded data removed]",
      "text/plain": [
       "<Figure size 640x480 with 1 Axes>"
      ]
     },
     "metadata": {},
     "output_type": "display_data"
    }
   ],
   "source": [
    "image = testset[2][0].permute(1, 2, 0).numpy()\n",
    "\n",
    "plt.imshow(image)"
   ]
  },
  {
   "cell_type": "code",
   "execution_count": 8,
   "metadata": {},
   "outputs": [
    {
     "name": "stdout",
     "output_type": "stream",
     "text": [
      "Size: (64, 64, 3)\n",
      "Train: 98179\n",
      "Test: 9832\n",
      "Classes: 200\n"
     ]
    }
   ],
   "source": [
    "print(f'Size: {image.shape}')\n",
    "print(f'Train: {len(trainset)}')\n",
    "print(f'Test: {len(testset)}')\n",
    "print(f'Classes: {len(testset.classes)}')"
   ]
  },
  {
   "cell_type": "markdown",
   "metadata": {},
   "source": [
    "### Config"
   ]
  },
  {
   "cell_type": "code",
   "execution_count": 9,
   "metadata": {},
   "outputs": [],
   "source": [
    "checkpoint_id = 1\n",
    "folder_path = f'./CNN/TinyImageNet/checkpoint{checkpoint_id}/'\n",
    "kernel_size = 5\n",
    "stride = 1\n",
    "padding = 2\n",
    "image_size = 64\n",
    "out_channels = [32, 64]\n",
    "num_classes = len(trainset.classes)\n",
    "batch_size = 256\n",
    "num_epochs = 100\n",
    "learning_rate = 0.001\n",
    "\n",
    "os.makedirs(folder_path, exist_ok=True)\n",
    "\n",
    "config = {\n",
    "    \"checkpoint_id\": checkpoint_id,\n",
    "    \"folder_path\": folder_path,\n",
    "    \"kernel_size\": kernel_size,\n",
    "    \"stride\": stride,\n",
    "    \"padding\": padding,\n",
    "    \"image_size\": image_size,\n",
    "    \"out_channels\": out_channels,\n",
    "    \"num_classes\": num_classes,\n",
    "    \"batch_size\": batch_size,\n",
    "    \"num_epochs\": num_epochs,\n",
    "    \"learning_rate\": learning_rate\n",
    "}\n",
    "\n",
    "with open(folder_path + \"config.json\", \"w\") as f:\n",
    "    json.dump(config, f, indent=4)"
   ]
  },
  {
   "cell_type": "code",
   "execution_count": 10,
   "metadata": {},
   "outputs": [
    {
     "name": "stdout",
     "output_type": "stream",
     "text": [
      "CNN(\n",
      "  (layers): Sequential(\n",
      "    (0): Conv2d(3, 32, kernel_size=(5, 5), stride=(1, 1), padding=(2, 2))\n",
      "    (1): BatchNorm2d(32, eps=1e-05, momentum=0.1, affine=True, track_running_stats=True)\n",
      "    (2): ReLU(inplace=True)\n",
      "    (3): Conv2d(32, 32, kernel_size=(5, 5), stride=(1, 1), padding=(2, 2))\n",
      "    (4): BatchNorm2d(32, eps=1e-05, momentum=0.1, affine=True, track_running_stats=True)\n",
      "    (5): ReLU(inplace=True)\n",
      "    (6): MaxPool2d(kernel_size=2, stride=2, padding=0, dilation=1, ceil_mode=False)\n",
      "    (7): Dropout(p=0.5, inplace=False)\n",
      "    (8): Conv2d(32, 64, kernel_size=(5, 5), stride=(1, 1), padding=(2, 2))\n",
      "    (9): BatchNorm2d(64, eps=1e-05, momentum=0.1, affine=True, track_running_stats=True)\n",
      "    (10): ReLU(inplace=True)\n",
      "    (11): Conv2d(64, 64, kernel_size=(5, 5), stride=(1, 1), padding=(2, 2))\n",
      "    (12): BatchNorm2d(64, eps=1e-05, momentum=0.1, affine=True, track_running_stats=True)\n",
      "    (13): ReLU(inplace=True)\n",
      "    (14): MaxPool2d(kernel_size=2, stride=2, padding=0, dilation=1, ceil_mode=False)\n",
      "    (15): Dropout(p=0.5, inplace=False)\n",
      "  )\n",
      "  (flatten): Flatten(start_dim=1, end_dim=-1)\n",
      "  (fc): Linear(in_features=16384, out_features=200, bias=True)\n",
      ")\n"
     ]
    }
   ],
   "source": [
    "model = CNN(image_size, out_channels, kernel_size, stride, padding, num_classes=num_classes).to(device)\n",
    "trainloader = DataLoader(trainset, batch_size=batch_size, shuffle=True, num_workers=0)\n",
    "testloader = DataLoader(testset, batch_size=batch_size, shuffle=False, num_workers=0)\n",
    "criterion = nn.CrossEntropyLoss()\n",
    "optimizer = optim.Adam(model.parameters(), lr=learning_rate, weight_decay=5e-4)\n",
    "scheduler = optim.lr_scheduler.OneCycleLR(optimizer, max_lr=learning_rate, steps_per_epoch=len(trainloader), epochs=num_epochs)\n",
    "print(model)"
   ]
  },
  {
   "cell_type": "markdown",
   "metadata": {},
   "source": [
    "### Train, test"
   ]
  },
  {
   "cell_type": "code",
   "execution_count": 11,
   "metadata": {},
   "outputs": [],
   "source": [
    "def train(model, trainloader, criterion, optimizer, scheduler, device, folder_path, num_epochs=10):\n",
    "    model.train()\n",
    "    epoch_losses = []\n",
    "    start = time.time()\n",
    "    for epoch in tqdm(range(num_epochs)):\n",
    "        running_loss = 0\n",
    "        for i, (inputs, labels) in enumerate(trainloader, 0):\n",
    "            inputs, labels = inputs.to(device), labels.to(device)\n",
    "\n",
    "            optimizer.zero_grad() \n",
    "\n",
    "            outputs = model(inputs) \n",
    "            loss = criterion(outputs, labels)  \n",
    "            loss.backward()\n",
    "            optimizer.step() \n",
    "\n",
    "            running_loss += loss.item()\n",
    "        running_loss = running_loss / len(trainloader)\n",
    "        print(f'Epoch [{epoch+1}/{num_epochs}], Loss: {running_loss:.4f}')\n",
    "        epoch_losses.append(running_loss)\n",
    "        scheduler.step()\n",
    "    end = time.time()\n",
    "    training_time = (end - start) / 3600\n",
    "\n",
    "    plt.plot(range(1, num_epochs + 1), epoch_losses)\n",
    "    plt.title('Training Loss per Epoch')\n",
    "    plt.suptitle(f'Training time: {training_time:.2f} hours')\n",
    "    plt.xlabel('Epoch')\n",
    "    plt.ylabel('Loss')\n",
    "    plt.savefig(folder_path + 'training_loss.png')\n",
    "    plt.show()\n",
    "\n",
    "    torch.save(model.state_dict(), folder_path + 'model_weights.pth')\n",
    "\n",
    "def evaluate(model, testloader, device, folder_path):\n",
    "    model.eval()\n",
    "    all_labels = []\n",
    "    all_predictions = []\n",
    "    \n",
    "    with torch.no_grad():\n",
    "        for inputs, labels in testloader:\n",
    "            inputs, labels = inputs.to(device), labels.to(device)\n",
    "            outputs = model(inputs)\n",
    "            _, predicted = torch.max(outputs.data, 1)\n",
    "            \n",
    "            all_labels.extend(labels.cpu().numpy())\n",
    "            all_predictions.extend(predicted.cpu().numpy())\n",
    "    \n",
    "    correct = sum([1 for a, p in zip(all_labels, all_predictions) if a == p])\n",
    "    total = len(all_labels)\n",
    "    accuracy = 100 * correct / total\n",
    "    report = classification_report(all_labels, all_predictions)\n",
    "    print(f'Accuracy: {accuracy:.2f}%')\n",
    "    print(\"Classification Report:\")\n",
    "    print(report)\n",
    "\n",
    "    with open(folder_path + 'report.txt', \"w\") as f:\n",
    "        f.write(f'Accuracy: {accuracy:.2f}%\\n')\n",
    "        f.write(\"Classification Report:\\n\\n\")\n",
    "        f.write(report)\n",
    "    "
   ]
  },
  {
   "cell_type": "code",
   "execution_count": 12,
   "metadata": {},
   "outputs": [
    {
     "name": "stderr",
     "output_type": "stream",
     "text": [
      "  1%|          | 1/100 [01:58<3:15:06, 118.25s/it]"
     ]
    },
    {
     "name": "stdout",
     "output_type": "stream",
     "text": [
      "Epoch [1/100], Loss: 5.0177\n"
     ]
    },
    {
     "name": "stderr",
     "output_type": "stream",
     "text": [
      "  2%|▏         | 2/100 [03:59<3:15:44, 119.84s/it]"
     ]
    },
    {
     "name": "stdout",
     "output_type": "stream",
     "text": [
      "Epoch [2/100], Loss: 4.4709\n"
     ]
    },
    {
     "name": "stderr",
     "output_type": "stream",
     "text": [
      "  3%|▎         | 3/100 [06:00<3:14:54, 120.57s/it]"
     ]
    },
    {
     "name": "stdout",
     "output_type": "stream",
     "text": [
      "Epoch [3/100], Loss: 4.2330\n"
     ]
    },
    {
     "name": "stderr",
     "output_type": "stream",
     "text": [
      "  4%|▍         | 4/100 [08:04<3:14:58, 121.86s/it]"
     ]
    },
    {
     "name": "stdout",
     "output_type": "stream",
     "text": [
      "Epoch [4/100], Loss: 4.0353\n"
     ]
    },
    {
     "name": "stderr",
     "output_type": "stream",
     "text": [
      "  5%|▌         | 5/100 [10:07<3:13:42, 122.34s/it]"
     ]
    },
    {
     "name": "stdout",
     "output_type": "stream",
     "text": [
      "Epoch [5/100], Loss: 3.8694\n"
     ]
    },
    {
     "name": "stderr",
     "output_type": "stream",
     "text": [
      "  6%|▌         | 6/100 [12:09<3:11:24, 122.18s/it]"
     ]
    },
    {
     "name": "stdout",
     "output_type": "stream",
     "text": [
      "Epoch [6/100], Loss: 3.7272\n"
     ]
    },
    {
     "name": "stderr",
     "output_type": "stream",
     "text": [
      "  7%|▋         | 7/100 [14:12<3:09:43, 122.40s/it]"
     ]
    },
    {
     "name": "stdout",
     "output_type": "stream",
     "text": [
      "Epoch [7/100], Loss: 3.6183\n"
     ]
    },
    {
     "name": "stderr",
     "output_type": "stream",
     "text": [
      "  8%|▊         | 8/100 [16:15<3:07:53, 122.54s/it]"
     ]
    },
    {
     "name": "stdout",
     "output_type": "stream",
     "text": [
      "Epoch [8/100], Loss: 3.5322\n"
     ]
    },
    {
     "name": "stderr",
     "output_type": "stream",
     "text": [
      "  9%|▉         | 9/100 [18:18<3:06:19, 122.85s/it]"
     ]
    },
    {
     "name": "stdout",
     "output_type": "stream",
     "text": [
      "Epoch [9/100], Loss: 3.4599\n"
     ]
    },
    {
     "name": "stderr",
     "output_type": "stream",
     "text": [
      " 10%|█         | 10/100 [20:22<3:04:45, 123.18s/it]"
     ]
    },
    {
     "name": "stdout",
     "output_type": "stream",
     "text": [
      "Epoch [10/100], Loss: 3.4018\n"
     ]
    },
    {
     "name": "stderr",
     "output_type": "stream",
     "text": [
      " 11%|█         | 11/100 [22:24<3:02:05, 122.76s/it]"
     ]
    },
    {
     "name": "stdout",
     "output_type": "stream",
     "text": [
      "Epoch [11/100], Loss: 3.3477\n"
     ]
    },
    {
     "name": "stderr",
     "output_type": "stream",
     "text": [
      " 12%|█▏        | 12/100 [24:26<2:59:30, 122.39s/it]"
     ]
    },
    {
     "name": "stdout",
     "output_type": "stream",
     "text": [
      "Epoch [12/100], Loss: 3.3036\n"
     ]
    },
    {
     "name": "stderr",
     "output_type": "stream",
     "text": [
      " 13%|█▎        | 13/100 [26:27<2:56:52, 121.99s/it]"
     ]
    },
    {
     "name": "stdout",
     "output_type": "stream",
     "text": [
      "Epoch [13/100], Loss: 3.2608\n"
     ]
    },
    {
     "name": "stderr",
     "output_type": "stream",
     "text": [
      " 14%|█▍        | 14/100 [28:33<2:56:42, 123.29s/it]"
     ]
    },
    {
     "name": "stdout",
     "output_type": "stream",
     "text": [
      "Epoch [14/100], Loss: 3.2213\n"
     ]
    },
    {
     "name": "stderr",
     "output_type": "stream",
     "text": [
      " 15%|█▌        | 15/100 [30:35<2:54:16, 123.02s/it]"
     ]
    },
    {
     "name": "stdout",
     "output_type": "stream",
     "text": [
      "Epoch [15/100], Loss: 3.1788\n"
     ]
    },
    {
     "name": "stderr",
     "output_type": "stream",
     "text": [
      " 16%|█▌        | 16/100 [32:46<2:55:24, 125.29s/it]"
     ]
    },
    {
     "name": "stdout",
     "output_type": "stream",
     "text": [
      "Epoch [16/100], Loss: 3.1511\n"
     ]
    },
    {
     "name": "stderr",
     "output_type": "stream",
     "text": [
      " 17%|█▋        | 17/100 [34:52<2:53:32, 125.46s/it]"
     ]
    },
    {
     "name": "stdout",
     "output_type": "stream",
     "text": [
      "Epoch [17/100], Loss: 3.1152\n"
     ]
    },
    {
     "name": "stderr",
     "output_type": "stream",
     "text": [
      " 18%|█▊        | 18/100 [36:55<2:50:42, 124.91s/it]"
     ]
    },
    {
     "name": "stdout",
     "output_type": "stream",
     "text": [
      "Epoch [18/100], Loss: 3.0807\n"
     ]
    },
    {
     "name": "stderr",
     "output_type": "stream",
     "text": [
      " 19%|█▉        | 19/100 [38:59<2:48:01, 124.46s/it]"
     ]
    },
    {
     "name": "stdout",
     "output_type": "stream",
     "text": [
      "Epoch [19/100], Loss: 3.0526\n"
     ]
    },
    {
     "name": "stderr",
     "output_type": "stream",
     "text": [
      " 20%|██        | 20/100 [41:01<2:45:15, 123.94s/it]"
     ]
    },
    {
     "name": "stdout",
     "output_type": "stream",
     "text": [
      "Epoch [20/100], Loss: 3.0253\n"
     ]
    },
    {
     "name": "stderr",
     "output_type": "stream",
     "text": [
      " 21%|██        | 21/100 [43:04<2:42:37, 123.51s/it]"
     ]
    },
    {
     "name": "stdout",
     "output_type": "stream",
     "text": [
      "Epoch [21/100], Loss: 3.0007\n"
     ]
    },
    {
     "name": "stderr",
     "output_type": "stream",
     "text": [
      " 22%|██▏       | 22/100 [45:06<2:39:58, 123.05s/it]"
     ]
    },
    {
     "name": "stdout",
     "output_type": "stream",
     "text": [
      "Epoch [22/100], Loss: 2.9752\n"
     ]
    },
    {
     "name": "stderr",
     "output_type": "stream",
     "text": [
      " 23%|██▎       | 23/100 [47:06<2:36:53, 122.25s/it]"
     ]
    },
    {
     "name": "stdout",
     "output_type": "stream",
     "text": [
      "Epoch [23/100], Loss: 2.9488\n"
     ]
    },
    {
     "name": "stderr",
     "output_type": "stream",
     "text": [
      " 24%|██▍       | 24/100 [49:07<2:34:11, 121.72s/it]"
     ]
    },
    {
     "name": "stdout",
     "output_type": "stream",
     "text": [
      "Epoch [24/100], Loss: 2.9307\n"
     ]
    },
    {
     "name": "stderr",
     "output_type": "stream",
     "text": [
      " 25%|██▌       | 25/100 [51:07<2:31:38, 121.31s/it]"
     ]
    },
    {
     "name": "stdout",
     "output_type": "stream",
     "text": [
      "Epoch [25/100], Loss: 2.9124\n"
     ]
    },
    {
     "name": "stderr",
     "output_type": "stream",
     "text": [
      " 26%|██▌       | 26/100 [53:10<2:30:02, 121.65s/it]"
     ]
    },
    {
     "name": "stdout",
     "output_type": "stream",
     "text": [
      "Epoch [26/100], Loss: 2.8875\n"
     ]
    },
    {
     "name": "stderr",
     "output_type": "stream",
     "text": [
      " 27%|██▋       | 27/100 [55:15<2:29:20, 122.75s/it]"
     ]
    },
    {
     "name": "stdout",
     "output_type": "stream",
     "text": [
      "Epoch [27/100], Loss: 2.8693\n"
     ]
    },
    {
     "name": "stderr",
     "output_type": "stream",
     "text": [
      " 28%|██▊       | 28/100 [57:19<2:27:56, 123.28s/it]"
     ]
    },
    {
     "name": "stdout",
     "output_type": "stream",
     "text": [
      "Epoch [28/100], Loss: 2.8509\n"
     ]
    },
    {
     "name": "stderr",
     "output_type": "stream",
     "text": [
      " 29%|██▉       | 29/100 [59:22<2:25:27, 122.92s/it]"
     ]
    },
    {
     "name": "stdout",
     "output_type": "stream",
     "text": [
      "Epoch [29/100], Loss: 2.8355\n"
     ]
    },
    {
     "name": "stderr",
     "output_type": "stream",
     "text": [
      " 30%|███       | 30/100 [1:01:24<2:23:05, 122.65s/it]"
     ]
    },
    {
     "name": "stdout",
     "output_type": "stream",
     "text": [
      "Epoch [30/100], Loss: 2.8148\n"
     ]
    },
    {
     "name": "stderr",
     "output_type": "stream",
     "text": [
      " 31%|███       | 31/100 [1:03:25<2:20:46, 122.42s/it]"
     ]
    },
    {
     "name": "stdout",
     "output_type": "stream",
     "text": [
      "Epoch [31/100], Loss: 2.8011\n"
     ]
    },
    {
     "name": "stderr",
     "output_type": "stream",
     "text": [
      " 32%|███▏      | 32/100 [1:05:28<2:18:51, 122.53s/it]"
     ]
    },
    {
     "name": "stdout",
     "output_type": "stream",
     "text": [
      "Epoch [32/100], Loss: 2.7800\n"
     ]
    },
    {
     "name": "stderr",
     "output_type": "stream",
     "text": [
      " 33%|███▎      | 33/100 [1:07:30<2:16:41, 122.40s/it]"
     ]
    },
    {
     "name": "stdout",
     "output_type": "stream",
     "text": [
      "Epoch [33/100], Loss: 2.7635\n"
     ]
    },
    {
     "name": "stderr",
     "output_type": "stream",
     "text": [
      " 34%|███▍      | 34/100 [1:09:32<2:14:16, 122.08s/it]"
     ]
    },
    {
     "name": "stdout",
     "output_type": "stream",
     "text": [
      "Epoch [34/100], Loss: 2.7523\n"
     ]
    },
    {
     "name": "stderr",
     "output_type": "stream",
     "text": [
      " 35%|███▌      | 35/100 [1:11:34<2:12:26, 122.25s/it]"
     ]
    },
    {
     "name": "stdout",
     "output_type": "stream",
     "text": [
      "Epoch [35/100], Loss: 2.7337\n"
     ]
    },
    {
     "name": "stderr",
     "output_type": "stream",
     "text": [
      " 36%|███▌      | 36/100 [1:13:34<2:09:41, 121.58s/it]"
     ]
    },
    {
     "name": "stdout",
     "output_type": "stream",
     "text": [
      "Epoch [36/100], Loss: 2.7215\n"
     ]
    },
    {
     "name": "stderr",
     "output_type": "stream",
     "text": [
      " 37%|███▋      | 37/100 [1:15:33<2:06:42, 120.68s/it]"
     ]
    },
    {
     "name": "stdout",
     "output_type": "stream",
     "text": [
      "Epoch [37/100], Loss: 2.7067\n"
     ]
    },
    {
     "name": "stderr",
     "output_type": "stream",
     "text": [
      " 38%|███▊      | 38/100 [1:17:35<2:05:10, 121.13s/it]"
     ]
    },
    {
     "name": "stdout",
     "output_type": "stream",
     "text": [
      "Epoch [38/100], Loss: 2.6955\n"
     ]
    },
    {
     "name": "stderr",
     "output_type": "stream",
     "text": [
      " 39%|███▉      | 39/100 [1:19:35<2:02:47, 120.78s/it]"
     ]
    },
    {
     "name": "stdout",
     "output_type": "stream",
     "text": [
      "Epoch [39/100], Loss: 2.6880\n"
     ]
    },
    {
     "name": "stderr",
     "output_type": "stream",
     "text": [
      " 40%|████      | 40/100 [1:21:37<2:01:03, 121.05s/it]"
     ]
    },
    {
     "name": "stdout",
     "output_type": "stream",
     "text": [
      "Epoch [40/100], Loss: 2.6711\n"
     ]
    },
    {
     "name": "stderr",
     "output_type": "stream",
     "text": [
      " 41%|████      | 41/100 [1:23:39<1:59:14, 121.27s/it]"
     ]
    },
    {
     "name": "stdout",
     "output_type": "stream",
     "text": [
      "Epoch [41/100], Loss: 2.6606\n"
     ]
    },
    {
     "name": "stderr",
     "output_type": "stream",
     "text": [
      " 42%|████▏     | 42/100 [1:25:40<1:57:21, 121.40s/it]"
     ]
    },
    {
     "name": "stdout",
     "output_type": "stream",
     "text": [
      "Epoch [42/100], Loss: 2.6478\n"
     ]
    },
    {
     "name": "stderr",
     "output_type": "stream",
     "text": [
      " 43%|████▎     | 43/100 [1:27:41<1:55:15, 121.32s/it]"
     ]
    },
    {
     "name": "stdout",
     "output_type": "stream",
     "text": [
      "Epoch [43/100], Loss: 2.6365\n"
     ]
    },
    {
     "name": "stderr",
     "output_type": "stream",
     "text": [
      " 44%|████▍     | 44/100 [1:29:44<1:53:32, 121.64s/it]"
     ]
    },
    {
     "name": "stdout",
     "output_type": "stream",
     "text": [
      "Epoch [44/100], Loss: 2.6276\n"
     ]
    },
    {
     "name": "stderr",
     "output_type": "stream",
     "text": [
      " 45%|████▌     | 45/100 [1:31:48<1:52:20, 122.55s/it]"
     ]
    },
    {
     "name": "stdout",
     "output_type": "stream",
     "text": [
      "Epoch [45/100], Loss: 2.6158\n"
     ]
    },
    {
     "name": "stderr",
     "output_type": "stream",
     "text": [
      " 46%|████▌     | 46/100 [1:33:50<1:49:56, 122.16s/it]"
     ]
    },
    {
     "name": "stdout",
     "output_type": "stream",
     "text": [
      "Epoch [46/100], Loss: 2.6056\n"
     ]
    },
    {
     "name": "stderr",
     "output_type": "stream",
     "text": [
      " 47%|████▋     | 47/100 [1:35:53<1:48:11, 122.47s/it]"
     ]
    },
    {
     "name": "stdout",
     "output_type": "stream",
     "text": [
      "Epoch [47/100], Loss: 2.5907\n"
     ]
    },
    {
     "name": "stderr",
     "output_type": "stream",
     "text": [
      " 48%|████▊     | 48/100 [1:37:55<1:45:56, 122.24s/it]"
     ]
    },
    {
     "name": "stdout",
     "output_type": "stream",
     "text": [
      "Epoch [48/100], Loss: 2.5817\n"
     ]
    },
    {
     "name": "stderr",
     "output_type": "stream",
     "text": [
      " 49%|████▉     | 49/100 [1:40:00<1:44:49, 123.33s/it]"
     ]
    },
    {
     "name": "stdout",
     "output_type": "stream",
     "text": [
      "Epoch [49/100], Loss: 2.5769\n"
     ]
    },
    {
     "name": "stderr",
     "output_type": "stream",
     "text": [
      " 50%|█████     | 50/100 [1:42:08<1:43:47, 124.55s/it]"
     ]
    },
    {
     "name": "stdout",
     "output_type": "stream",
     "text": [
      "Epoch [50/100], Loss: 2.5622\n"
     ]
    },
    {
     "name": "stderr",
     "output_type": "stream",
     "text": [
      " 51%|█████     | 51/100 [1:44:09<1:40:46, 123.39s/it]"
     ]
    },
    {
     "name": "stdout",
     "output_type": "stream",
     "text": [
      "Epoch [51/100], Loss: 2.5601\n"
     ]
    },
    {
     "name": "stderr",
     "output_type": "stream",
     "text": [
      " 52%|█████▏    | 52/100 [1:46:11<1:38:23, 122.98s/it]"
     ]
    },
    {
     "name": "stdout",
     "output_type": "stream",
     "text": [
      "Epoch [52/100], Loss: 2.5478\n"
     ]
    },
    {
     "name": "stderr",
     "output_type": "stream",
     "text": [
      " 53%|█████▎    | 53/100 [1:48:15<1:36:39, 123.39s/it]"
     ]
    },
    {
     "name": "stdout",
     "output_type": "stream",
     "text": [
      "Epoch [53/100], Loss: 2.5406\n"
     ]
    },
    {
     "name": "stderr",
     "output_type": "stream",
     "text": [
      " 54%|█████▍    | 54/100 [1:50:20<1:34:58, 123.89s/it]"
     ]
    },
    {
     "name": "stdout",
     "output_type": "stream",
     "text": [
      "Epoch [54/100], Loss: 2.5307\n"
     ]
    },
    {
     "name": "stderr",
     "output_type": "stream",
     "text": [
      " 55%|█████▌    | 55/100 [1:52:24<1:33:02, 124.06s/it]"
     ]
    },
    {
     "name": "stdout",
     "output_type": "stream",
     "text": [
      "Epoch [55/100], Loss: 2.5229\n"
     ]
    },
    {
     "name": "stderr",
     "output_type": "stream",
     "text": [
      " 56%|█████▌    | 56/100 [1:54:30<1:31:14, 124.43s/it]"
     ]
    },
    {
     "name": "stdout",
     "output_type": "stream",
     "text": [
      "Epoch [56/100], Loss: 2.5155\n"
     ]
    },
    {
     "name": "stderr",
     "output_type": "stream",
     "text": [
      " 57%|█████▋    | 57/100 [1:56:34<1:29:05, 124.31s/it]"
     ]
    },
    {
     "name": "stdout",
     "output_type": "stream",
     "text": [
      "Epoch [57/100], Loss: 2.5079\n"
     ]
    },
    {
     "name": "stderr",
     "output_type": "stream",
     "text": [
      " 58%|█████▊    | 58/100 [1:58:38<1:26:57, 124.23s/it]"
     ]
    },
    {
     "name": "stdout",
     "output_type": "stream",
     "text": [
      "Epoch [58/100], Loss: 2.4989\n"
     ]
    },
    {
     "name": "stderr",
     "output_type": "stream",
     "text": [
      " 59%|█████▉    | 59/100 [2:00:41<1:24:36, 123.81s/it]"
     ]
    },
    {
     "name": "stdout",
     "output_type": "stream",
     "text": [
      "Epoch [59/100], Loss: 2.4910\n"
     ]
    },
    {
     "name": "stderr",
     "output_type": "stream",
     "text": [
      " 60%|██████    | 60/100 [2:02:41<1:21:51, 122.79s/it]"
     ]
    },
    {
     "name": "stdout",
     "output_type": "stream",
     "text": [
      "Epoch [60/100], Loss: 2.4793\n"
     ]
    },
    {
     "name": "stderr",
     "output_type": "stream",
     "text": [
      " 61%|██████    | 61/100 [2:04:44<1:19:48, 122.78s/it]"
     ]
    },
    {
     "name": "stdout",
     "output_type": "stream",
     "text": [
      "Epoch [61/100], Loss: 2.4786\n"
     ]
    },
    {
     "name": "stderr",
     "output_type": "stream",
     "text": [
      " 62%|██████▏   | 62/100 [2:06:47<1:17:54, 123.02s/it]"
     ]
    },
    {
     "name": "stdout",
     "output_type": "stream",
     "text": [
      "Epoch [62/100], Loss: 2.4703\n"
     ]
    },
    {
     "name": "stderr",
     "output_type": "stream",
     "text": [
      " 63%|██████▎   | 63/100 [2:08:48<1:15:28, 122.40s/it]"
     ]
    },
    {
     "name": "stdout",
     "output_type": "stream",
     "text": [
      "Epoch [63/100], Loss: 2.4571\n"
     ]
    },
    {
     "name": "stderr",
     "output_type": "stream",
     "text": [
      " 64%|██████▍   | 64/100 [2:10:48<1:12:58, 121.63s/it]"
     ]
    },
    {
     "name": "stdout",
     "output_type": "stream",
     "text": [
      "Epoch [64/100], Loss: 2.4527\n"
     ]
    },
    {
     "name": "stderr",
     "output_type": "stream",
     "text": [
      " 65%|██████▌   | 65/100 [2:12:49<1:10:48, 121.40s/it]"
     ]
    },
    {
     "name": "stdout",
     "output_type": "stream",
     "text": [
      "Epoch [65/100], Loss: 2.4486\n"
     ]
    },
    {
     "name": "stderr",
     "output_type": "stream",
     "text": [
      " 66%|██████▌   | 66/100 [2:14:52<1:09:01, 121.81s/it]"
     ]
    },
    {
     "name": "stdout",
     "output_type": "stream",
     "text": [
      "Epoch [66/100], Loss: 2.4440\n"
     ]
    },
    {
     "name": "stderr",
     "output_type": "stream",
     "text": [
      " 67%|██████▋   | 67/100 [2:16:55<1:07:12, 122.20s/it]"
     ]
    },
    {
     "name": "stdout",
     "output_type": "stream",
     "text": [
      "Epoch [67/100], Loss: 2.4354\n"
     ]
    },
    {
     "name": "stderr",
     "output_type": "stream",
     "text": [
      " 68%|██████▊   | 68/100 [2:18:56<1:04:58, 121.82s/it]"
     ]
    },
    {
     "name": "stdout",
     "output_type": "stream",
     "text": [
      "Epoch [68/100], Loss: 2.4326\n"
     ]
    },
    {
     "name": "stderr",
     "output_type": "stream",
     "text": [
      " 69%|██████▉   | 69/100 [2:20:58<1:03:00, 121.95s/it]"
     ]
    },
    {
     "name": "stdout",
     "output_type": "stream",
     "text": [
      "Epoch [69/100], Loss: 2.4216\n"
     ]
    },
    {
     "name": "stderr",
     "output_type": "stream",
     "text": [
      " 70%|███████   | 70/100 [2:23:03<1:01:25, 122.87s/it]"
     ]
    },
    {
     "name": "stdout",
     "output_type": "stream",
     "text": [
      "Epoch [70/100], Loss: 2.4135\n"
     ]
    },
    {
     "name": "stderr",
     "output_type": "stream",
     "text": [
      " 71%|███████   | 71/100 [2:25:08<59:43, 123.58s/it]  "
     ]
    },
    {
     "name": "stdout",
     "output_type": "stream",
     "text": [
      "Epoch [71/100], Loss: 2.4064\n"
     ]
    },
    {
     "name": "stderr",
     "output_type": "stream",
     "text": [
      " 72%|███████▏  | 72/100 [2:27:08<57:08, 122.46s/it]"
     ]
    },
    {
     "name": "stdout",
     "output_type": "stream",
     "text": [
      "Epoch [72/100], Loss: 2.4050\n"
     ]
    },
    {
     "name": "stderr",
     "output_type": "stream",
     "text": [
      " 73%|███████▎  | 73/100 [2:29:09<54:50, 121.88s/it]"
     ]
    },
    {
     "name": "stdout",
     "output_type": "stream",
     "text": [
      "Epoch [73/100], Loss: 2.3979\n"
     ]
    },
    {
     "name": "stderr",
     "output_type": "stream",
     "text": [
      " 74%|███████▍  | 74/100 [2:31:13<53:07, 122.61s/it]"
     ]
    },
    {
     "name": "stdout",
     "output_type": "stream",
     "text": [
      "Epoch [74/100], Loss: 2.3941\n"
     ]
    },
    {
     "name": "stderr",
     "output_type": "stream",
     "text": [
      " 75%|███████▌  | 75/100 [2:33:14<50:54, 122.20s/it]"
     ]
    },
    {
     "name": "stdout",
     "output_type": "stream",
     "text": [
      "Epoch [75/100], Loss: 2.3888\n"
     ]
    },
    {
     "name": "stderr",
     "output_type": "stream",
     "text": [
      " 76%|███████▌  | 76/100 [2:35:14<48:38, 121.59s/it]"
     ]
    },
    {
     "name": "stdout",
     "output_type": "stream",
     "text": [
      "Epoch [76/100], Loss: 2.3861\n"
     ]
    },
    {
     "name": "stderr",
     "output_type": "stream",
     "text": [
      " 77%|███████▋  | 77/100 [2:37:16<46:35, 121.54s/it]"
     ]
    },
    {
     "name": "stdout",
     "output_type": "stream",
     "text": [
      "Epoch [77/100], Loss: 2.3745\n"
     ]
    },
    {
     "name": "stderr",
     "output_type": "stream",
     "text": [
      " 78%|███████▊  | 78/100 [2:39:16<44:23, 121.08s/it]"
     ]
    },
    {
     "name": "stdout",
     "output_type": "stream",
     "text": [
      "Epoch [78/100], Loss: 2.3700\n"
     ]
    },
    {
     "name": "stderr",
     "output_type": "stream",
     "text": [
      " 79%|███████▉  | 79/100 [2:41:16<42:19, 120.93s/it]"
     ]
    },
    {
     "name": "stdout",
     "output_type": "stream",
     "text": [
      "Epoch [79/100], Loss: 2.3642\n"
     ]
    },
    {
     "name": "stderr",
     "output_type": "stream",
     "text": [
      " 80%|████████  | 80/100 [2:43:20<40:33, 121.66s/it]"
     ]
    },
    {
     "name": "stdout",
     "output_type": "stream",
     "text": [
      "Epoch [80/100], Loss: 2.3622\n"
     ]
    },
    {
     "name": "stderr",
     "output_type": "stream",
     "text": [
      " 81%|████████  | 81/100 [2:45:23<38:42, 122.22s/it]"
     ]
    },
    {
     "name": "stdout",
     "output_type": "stream",
     "text": [
      "Epoch [81/100], Loss: 2.3521\n"
     ]
    },
    {
     "name": "stderr",
     "output_type": "stream",
     "text": [
      " 82%|████████▏ | 82/100 [2:47:27<36:50, 122.81s/it]"
     ]
    },
    {
     "name": "stdout",
     "output_type": "stream",
     "text": [
      "Epoch [82/100], Loss: 2.3518\n"
     ]
    },
    {
     "name": "stderr",
     "output_type": "stream",
     "text": [
      " 83%|████████▎ | 83/100 [2:49:28<34:34, 122.02s/it]"
     ]
    },
    {
     "name": "stdout",
     "output_type": "stream",
     "text": [
      "Epoch [83/100], Loss: 2.3447\n"
     ]
    },
    {
     "name": "stderr",
     "output_type": "stream",
     "text": [
      " 84%|████████▍ | 84/100 [2:51:28<32:23, 121.48s/it]"
     ]
    },
    {
     "name": "stdout",
     "output_type": "stream",
     "text": [
      "Epoch [84/100], Loss: 2.3428\n"
     ]
    },
    {
     "name": "stderr",
     "output_type": "stream",
     "text": [
      " 85%|████████▌ | 85/100 [2:53:30<30:26, 121.76s/it]"
     ]
    },
    {
     "name": "stdout",
     "output_type": "stream",
     "text": [
      "Epoch [85/100], Loss: 2.3374\n"
     ]
    },
    {
     "name": "stderr",
     "output_type": "stream",
     "text": [
      " 86%|████████▌ | 86/100 [2:55:31<28:21, 121.54s/it]"
     ]
    },
    {
     "name": "stdout",
     "output_type": "stream",
     "text": [
      "Epoch [86/100], Loss: 2.3252\n"
     ]
    },
    {
     "name": "stderr",
     "output_type": "stream",
     "text": [
      " 87%|████████▋ | 87/100 [2:57:34<26:24, 121.87s/it]"
     ]
    },
    {
     "name": "stdout",
     "output_type": "stream",
     "text": [
      "Epoch [87/100], Loss: 2.3260\n"
     ]
    },
    {
     "name": "stderr",
     "output_type": "stream",
     "text": [
      " 88%|████████▊ | 88/100 [2:59:36<24:22, 121.91s/it]"
     ]
    },
    {
     "name": "stdout",
     "output_type": "stream",
     "text": [
      "Epoch [88/100], Loss: 2.3253\n"
     ]
    },
    {
     "name": "stderr",
     "output_type": "stream",
     "text": [
      " 89%|████████▉ | 89/100 [3:01:39<22:25, 122.33s/it]"
     ]
    },
    {
     "name": "stdout",
     "output_type": "stream",
     "text": [
      "Epoch [89/100], Loss: 2.3165\n"
     ]
    },
    {
     "name": "stderr",
     "output_type": "stream",
     "text": [
      " 90%|█████████ | 90/100 [3:03:42<20:25, 122.51s/it]"
     ]
    },
    {
     "name": "stdout",
     "output_type": "stream",
     "text": [
      "Epoch [90/100], Loss: 2.3096\n"
     ]
    },
    {
     "name": "stderr",
     "output_type": "stream",
     "text": [
      " 91%|█████████ | 91/100 [3:05:43<18:17, 121.91s/it]"
     ]
    },
    {
     "name": "stdout",
     "output_type": "stream",
     "text": [
      "Epoch [91/100], Loss: 2.3067\n"
     ]
    },
    {
     "name": "stderr",
     "output_type": "stream",
     "text": [
      " 92%|█████████▏| 92/100 [3:07:44<16:13, 121.72s/it]"
     ]
    },
    {
     "name": "stdout",
     "output_type": "stream",
     "text": [
      "Epoch [92/100], Loss: 2.3070\n"
     ]
    },
    {
     "name": "stderr",
     "output_type": "stream",
     "text": [
      " 93%|█████████▎| 93/100 [3:09:45<14:11, 121.59s/it]"
     ]
    },
    {
     "name": "stdout",
     "output_type": "stream",
     "text": [
      "Epoch [93/100], Loss: 2.3039\n"
     ]
    },
    {
     "name": "stderr",
     "output_type": "stream",
     "text": [
      " 94%|█████████▍| 94/100 [3:11:46<12:07, 121.22s/it]"
     ]
    },
    {
     "name": "stdout",
     "output_type": "stream",
     "text": [
      "Epoch [94/100], Loss: 2.2995\n"
     ]
    },
    {
     "name": "stderr",
     "output_type": "stream",
     "text": [
      " 95%|█████████▌| 95/100 [3:13:46<10:04, 120.94s/it]"
     ]
    },
    {
     "name": "stdout",
     "output_type": "stream",
     "text": [
      "Epoch [95/100], Loss: 2.2946\n"
     ]
    },
    {
     "name": "stderr",
     "output_type": "stream",
     "text": [
      " 96%|█████████▌| 96/100 [3:15:48<08:04, 121.16s/it]"
     ]
    },
    {
     "name": "stdout",
     "output_type": "stream",
     "text": [
      "Epoch [96/100], Loss: 2.2892\n"
     ]
    },
    {
     "name": "stderr",
     "output_type": "stream",
     "text": [
      " 97%|█████████▋| 97/100 [3:17:50<06:04, 121.43s/it]"
     ]
    },
    {
     "name": "stdout",
     "output_type": "stream",
     "text": [
      "Epoch [97/100], Loss: 2.2842\n"
     ]
    },
    {
     "name": "stderr",
     "output_type": "stream",
     "text": [
      " 98%|█████████▊| 98/100 [3:19:53<04:03, 121.97s/it]"
     ]
    },
    {
     "name": "stdout",
     "output_type": "stream",
     "text": [
      "Epoch [98/100], Loss: 2.2805\n"
     ]
    },
    {
     "name": "stderr",
     "output_type": "stream",
     "text": [
      " 99%|█████████▉| 99/100 [3:21:54<02:01, 121.66s/it]"
     ]
    },
    {
     "name": "stdout",
     "output_type": "stream",
     "text": [
      "Epoch [99/100], Loss: 2.2754\n"
     ]
    },
    {
     "name": "stderr",
     "output_type": "stream",
     "text": [
      "100%|██████████| 100/100 [3:23:56<00:00, 122.36s/it]"
     ]
    },
    {
     "name": "stdout",
     "output_type": "stream",
     "text": [
      "Epoch [100/100], Loss: 2.2760\n"
     ]
    },
    {
     "name": "stderr",
     "output_type": "stream",
     "text": [
      "\n"
     ]
    },
    {
     "data": {
      "image/png": "[encoded data removed]",
      "text/plain": [
       "<Figure size 640x480 with 1 Axes>"
      ]
     },
     "metadata": {},
     "output_type": "display_data"
    }
   ],
   "source": [
    "train(model, trainloader, criterion, optimizer, scheduler, device, folder_path, num_epochs=num_epochs)"
   ]
  },
  {
   "cell_type": "code",
   "execution_count": 13,
   "metadata": {},
   "outputs": [
    {
     "name": "stdout",
     "output_type": "stream",
     "text": [
      "Accuracy: 36.82%\n",
      "Classification Report:\n",
      "              precision    recall  f1-score   support\n",
      "\n",
      "           0       0.55      0.70      0.61        50\n",
      "           1       0.53      0.72      0.61        50\n",
      "           2       0.29      0.52      0.37        50\n",
      "           3       0.23      0.38      0.29        50\n",
      "           4       0.27      0.61      0.37        49\n",
      "           5       0.04      0.06      0.05        50\n",
      "           6       0.33      0.64      0.44        50\n",
      "           7       0.43      0.20      0.27        50\n",
      "           8       0.54      0.60      0.57        50\n",
      "           9       0.20      0.40      0.27        50\n",
      "          10       0.20      0.12      0.15        50\n",
      "          11       0.37      0.40      0.38        47\n",
      "          12       0.44      0.64      0.52        50\n",
      "          13       0.61      0.62      0.61        50\n",
      "          14       0.37      0.46      0.41        50\n",
      "          15       0.36      0.20      0.26        49\n",
      "          16       0.14      0.16      0.15        49\n",
      "          17       0.39      0.56      0.46        50\n",
      "          18       0.22      0.36      0.27        50\n",
      "          19       0.46      0.46      0.46        50\n",
      "          20       0.41      0.35      0.38        49\n",
      "          21       0.42      0.54      0.47        50\n",
      "          22       0.57      0.54      0.56        50\n",
      "          23       0.44      0.82      0.57        50\n",
      "          24       0.21      0.16      0.18        49\n",
      "          25       0.25      0.54      0.34        50\n",
      "          26       0.20      0.26      0.23        50\n",
      "          27       0.25      0.10      0.14        50\n",
      "          28       0.35      0.32      0.33        50\n",
      "          29       0.17      0.18      0.18        49\n",
      "          30       0.20      0.26      0.23        50\n",
      "          31       0.45      0.51      0.48        49\n",
      "          32       0.19      0.24      0.21        50\n",
      "          33       0.18      0.14      0.16        50\n",
      "          34       0.28      0.40      0.33        50\n",
      "          35       0.21      0.76      0.32        49\n",
      "          36       0.39      0.52      0.45        50\n",
      "          37       0.36      0.37      0.36        49\n",
      "          38       0.42      0.60      0.50        50\n",
      "          39       0.35      0.36      0.35        50\n",
      "          40       0.27      0.14      0.18        50\n",
      "          41       0.21      0.26      0.23        50\n",
      "          42       0.35      0.36      0.36        50\n",
      "          43       0.46      0.34      0.39        50\n",
      "          44       0.85      0.66      0.74        50\n",
      "          45       0.76      0.62      0.68        50\n",
      "          46       0.30      0.40      0.34        50\n",
      "          47       0.32      0.49      0.39        49\n",
      "          48       0.19      0.14      0.16        50\n",
      "          49       0.22      0.19      0.20        47\n",
      "          50       0.35      0.60      0.44        50\n",
      "          51       0.18      0.39      0.25        49\n",
      "          52       0.54      0.52      0.53        50\n",
      "          53       0.39      0.38      0.38        50\n",
      "          54       0.36      0.27      0.31        48\n",
      "          55       0.37      0.41      0.39        46\n",
      "          56       0.31      0.30      0.30        50\n",
      "          57       0.43      0.47      0.45        47\n",
      "          58       0.72      0.47      0.57        49\n",
      "          59       0.39      0.28      0.33        50\n",
      "          60       0.38      0.41      0.39        49\n",
      "          61       0.36      0.64      0.46        50\n",
      "          62       0.33      0.32      0.33        50\n",
      "          63       0.39      0.44      0.41        50\n",
      "          64       0.21      0.09      0.12        47\n",
      "          65       0.19      0.11      0.14        46\n",
      "          66       0.55      0.33      0.42        48\n",
      "          67       0.25      0.10      0.15        48\n",
      "          68       0.33      0.48      0.39        48\n",
      "          69       0.37      0.33      0.35        49\n",
      "          70       0.33      0.32      0.32        50\n",
      "          71       0.48      0.50      0.49        50\n",
      "          72       0.41      0.29      0.34        49\n",
      "          73       0.46      0.24      0.32        50\n",
      "          74       0.37      0.39      0.38        46\n",
      "          75       0.11      0.02      0.04        48\n",
      "          76       0.29      0.14      0.19        50\n",
      "          77       0.08      0.02      0.03        47\n",
      "          78       0.70      0.76      0.73        49\n",
      "          79       0.29      0.11      0.16        47\n",
      "          80       0.18      0.08      0.11        49\n",
      "          81       0.72      0.72      0.72        50\n",
      "          82       0.32      0.52      0.40        50\n",
      "          83       0.22      0.24      0.23        49\n",
      "          84       0.41      0.22      0.29        49\n",
      "          85       0.53      0.32      0.40        50\n",
      "          86       0.38      0.24      0.29        50\n",
      "          87       0.38      0.38      0.38        48\n",
      "          88       0.06      0.04      0.05        49\n",
      "          89       0.46      0.32      0.38        50\n",
      "          90       0.62      0.48      0.54        50\n",
      "          91       0.26      0.58      0.36        50\n",
      "          92       0.40      0.20      0.27        50\n",
      "          93       0.42      0.56      0.48        50\n",
      "          94       0.33      0.35      0.34        49\n",
      "          95       0.29      0.31      0.30        48\n",
      "          96       0.37      0.34      0.36        47\n",
      "          97       0.50      0.29      0.36        49\n",
      "          98       0.39      0.50      0.44        50\n",
      "          99       0.38      0.06      0.11        49\n",
      "         100       0.26      0.13      0.17        46\n",
      "         101       0.69      0.51      0.59        49\n",
      "         102       0.22      0.35      0.27        46\n",
      "         103       0.70      0.80      0.75        50\n",
      "         104       0.31      0.16      0.21        50\n",
      "         105       0.17      0.31      0.22        48\n",
      "         106       0.28      0.22      0.25        49\n",
      "         107       0.49      0.63      0.55        49\n",
      "         108       0.76      0.60      0.67        47\n",
      "         109       0.36      0.40      0.38        48\n",
      "         110       0.73      0.16      0.26        50\n",
      "         111       0.53      0.65      0.59        49\n",
      "         112       0.30      0.22      0.25        50\n",
      "         113       0.32      0.18      0.23        50\n",
      "         114       0.38      0.29      0.33        49\n",
      "         115       0.64      0.68      0.66        50\n",
      "         116       0.35      0.40      0.37        50\n",
      "         117       0.47      0.39      0.43        49\n",
      "         118       0.68      0.61      0.65        49\n",
      "         119       0.19      0.13      0.16        45\n",
      "         120       0.28      0.20      0.23        50\n",
      "         121       0.61      0.44      0.51        50\n",
      "         122       0.16      0.08      0.11        48\n",
      "         123       0.34      0.22      0.27        49\n",
      "         124       0.51      0.78      0.62        49\n",
      "         125       0.25      0.14      0.18        49\n",
      "         126       0.41      0.50      0.45        50\n",
      "         127       0.32      0.27      0.29        49\n",
      "         128       0.42      0.36      0.39        47\n",
      "         129       0.50      0.50      0.50        48\n",
      "         130       0.23      0.14      0.17        49\n",
      "         131       0.08      0.02      0.03        49\n",
      "         132       0.23      0.12      0.16        50\n",
      "         133       0.65      0.66      0.65        50\n",
      "         134       0.36      0.28      0.31        50\n",
      "         135       0.12      0.04      0.06        50\n",
      "         136       0.31      0.38      0.34        47\n",
      "         137       0.27      0.19      0.22        48\n",
      "         138       0.35      0.13      0.19        47\n",
      "         139       0.09      0.04      0.06        47\n",
      "         140       0.36      0.43      0.39        49\n",
      "         141       0.30      0.17      0.22        47\n",
      "         142       0.46      0.44      0.45        48\n",
      "         143       0.83      0.68      0.75        50\n",
      "         144       0.37      0.27      0.31        49\n",
      "         145       0.63      0.74      0.68        50\n",
      "         146       0.70      0.46      0.55        50\n",
      "         147       0.47      0.30      0.37        50\n",
      "         148       0.29      0.28      0.28        50\n",
      "         149       0.38      0.31      0.34        49\n",
      "         150       0.45      0.36      0.40        47\n",
      "         151       0.33      0.18      0.23        50\n",
      "         152       0.53      0.33      0.41        48\n",
      "         153       0.48      0.29      0.36        49\n",
      "         154       0.38      0.43      0.40        49\n",
      "         155       0.52      0.24      0.33        46\n",
      "         156       0.33      0.20      0.25        46\n",
      "         157       0.28      0.22      0.25        50\n",
      "         158       0.27      0.16      0.20        49\n",
      "         159       0.07      0.02      0.03        46\n",
      "         160       0.30      0.28      0.29        50\n",
      "         161       0.31      0.19      0.23        48\n",
      "         162       0.36      0.44      0.40        50\n",
      "         163       0.30      0.44      0.35        50\n",
      "         164       0.46      0.50      0.48        48\n",
      "         165       0.46      0.62      0.53        48\n",
      "         166       0.69      0.77      0.73        48\n",
      "         167       0.49      0.51      0.50        49\n",
      "         168       0.33      0.04      0.08        47\n",
      "         169       0.30      0.37      0.33        49\n",
      "         170       0.32      0.44      0.37        50\n",
      "         171       0.42      0.31      0.35        49\n",
      "         172       0.39      0.22      0.28        50\n",
      "         173       0.50      0.51      0.51        47\n",
      "         174       0.20      0.32      0.25        50\n",
      "         175       0.00      0.00      0.00        50\n",
      "         176       0.74      0.52      0.61        50\n",
      "         177       0.36      0.34      0.35        50\n",
      "         178       0.41      0.52      0.46        50\n",
      "         179       0.21      0.14      0.17        50\n",
      "         180       0.22      0.16      0.18        50\n",
      "         181       0.38      0.32      0.35        50\n",
      "         182       0.32      0.40      0.36        50\n",
      "         183       0.42      0.38      0.40        50\n",
      "         184       0.61      0.56      0.58        50\n",
      "         185       0.54      0.41      0.47        49\n",
      "         186       0.39      0.48      0.43        50\n",
      "         187       0.53      0.32      0.40        50\n",
      "         188       0.48      0.20      0.28        50\n",
      "         189       0.49      0.60      0.54        50\n",
      "         190       0.36      0.48      0.41        50\n",
      "         191       0.43      0.70      0.53        50\n",
      "         192       0.36      0.54      0.43        50\n",
      "         193       0.65      0.62      0.63        50\n",
      "         194       0.29      0.64      0.40        50\n",
      "         195       0.25      0.34      0.29        50\n",
      "         196       0.26      0.74      0.38        50\n",
      "         197       0.22      0.29      0.25        49\n",
      "         198       0.31      0.46      0.37        50\n",
      "         199       0.19      0.20      0.20        50\n",
      "\n",
      "    accuracy                           0.37      9832\n",
      "   macro avg       0.37      0.37      0.35      9832\n",
      "weighted avg       0.37      0.37      0.36      9832\n",
      "\n"
     ]
    }
   ],
   "source": [
    "evaluate(model, testloader, device, folder_path)"
   ]
  }
 ],
 "metadata": {
  "kernelspec": {
   "display_name": "base",
   "language": "python",
   "name": "python3"
  },
  "language_info": {
   "codemirror_mode": {
    "name": "ipython",
    "version": 3
   },
   "file_extension": ".py",
   "mimetype": "text/x-python",
   "name": "python",
   "nbconvert_exporter": "python",
   "pygments_lexer": "ipython3",
   "version": "3.12.3"
  }
 },
 "nbformat": 4,
 "nbformat_minor": 2
}

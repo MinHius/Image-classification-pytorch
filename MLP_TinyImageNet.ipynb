{
 "cells": [
  {
   "cell_type": "markdown",
   "metadata": {},
   "source": [
    "## Import thư viện"
   ]
  },
  {
   "cell_type": "code",
   "execution_count": 1,
   "metadata": {},
   "outputs": [
    {
     "name": "stderr",
     "output_type": "stream",
     "text": [
      "c:\\Users\\solit\\anaconda3\\Lib\\site-packages\\tqdm\\auto.py:21: TqdmWarning: IProgress not found. Please update jupyter and ipywidgets. See https://ipywidgets.readthedocs.io/en/stable/user_install.html\n",
      "  from .autonotebook import tqdm as notebook_tqdm\n"
     ]
    }
   ],
   "source": [
    "import torch\n",
    "from torch import nn\n",
    "import torch.optim as optim\n",
    "import torchvision\n",
    "import torchvision.transforms as transforms\n",
    "from torch.utils.data import DataLoader, Dataset\n",
    "import torchsummary\n",
    "from tqdm import tqdm\n",
    "import matplotlib.pyplot as plt\n",
    "from sklearn.metrics import classification_report\n",
    "import time\n",
    "import json\n",
    "import os\n",
    "from datasets import load_dataset\n",
    "import pandas as pd\n",
    "from PIL import Image"
   ]
  },
  {
   "cell_type": "markdown",
   "metadata": {},
   "source": [
    "## Model"
   ]
  },
  {
   "cell_type": "code",
   "execution_count": 2,
   "metadata": {},
   "outputs": [],
   "source": [
    "class MLP(nn.Module):\n",
    "    def __init__(self, image_size, num_layers, hidden_channels, num_classes=100):\n",
    "        super(MLP, self).__init__()\n",
    "        self.in_channels = image_size * image_size * 3\n",
    "        self.flatten = nn.Flatten()\n",
    "        self.layers = self.make_layer(num_classes, num_layers, hidden_channels)\n",
    "\n",
    "\n",
    "    def make_layer(self, out_channels, num_layers, hidden_channels):\n",
    "        layers = []\n",
    "        for idx in range(num_layers):\n",
    "            layers.extend([nn.Linear(self.in_channels, hidden_channels[idx]),\n",
    "                           nn.ReLU(inplace=True)])\n",
    "            self.in_channels = hidden_channels[idx]\n",
    "            layers.append(nn.Dropout(0.5))\n",
    "        layers.append(nn.Linear(self.in_channels, out_channels))\n",
    "        return nn.Sequential(*layers)\n",
    "\n",
    "    def forward(self, x):\n",
    "        x = self.flatten(x)\n",
    "        x = self.layers(x)\n",
    "        return x"
   ]
  },
  {
   "cell_type": "code",
   "execution_count": 3,
   "metadata": {},
   "outputs": [
    {
     "name": "stdout",
     "output_type": "stream",
     "text": [
      "=================================================================\n",
      "Layer (type:depth-idx)                   Param #\n",
      "=================================================================\n",
      "├─Flatten: 1-1                           --\n",
      "├─Sequential: 1-2                        --\n",
      "|    └─Linear: 2-1                       3,145,984\n",
      "|    └─ReLU: 2-2                         --\n",
      "|    └─Dropout: 2-3                      --\n",
      "|    └─Linear: 2-4                       131,584\n",
      "|    └─ReLU: 2-5                         --\n",
      "|    └─Dropout: 2-6                      --\n",
      "|    └─Linear: 2-7                       131,328\n",
      "|    └─ReLU: 2-8                         --\n",
      "|    └─Dropout: 2-9                      --\n",
      "|    └─Linear: 2-10                      25,700\n",
      "=================================================================\n",
      "Total params: 3,434,596\n",
      "Trainable params: 3,434,596\n",
      "Non-trainable params: 0\n",
      "=================================================================\n"
     ]
    },
    {
     "data": {
      "text/plain": [
       "torch.Size([5, 100])"
      ]
     },
     "execution_count": 3,
     "metadata": {},
     "output_type": "execute_result"
    }
   ],
   "source": [
    "model = MLP(64, 3, [256, 512, 256])\n",
    "torchsummary.summary(model)\n",
    "x = torch.randn(5, 3, 64, 64)\n",
    "out = model(x)\n",
    "out.shape"
   ]
  },
  {
   "cell_type": "markdown",
   "metadata": {},
   "source": [
    "## TinyImageNet"
   ]
  },
  {
   "cell_type": "code",
   "execution_count": 4,
   "metadata": {},
   "outputs": [
    {
     "name": "stdout",
     "output_type": "stream",
     "text": [
      "cuda\n"
     ]
    }
   ],
   "source": [
    "device = torch.device(\"cuda\" if torch.cuda.is_available() else \"cpu\")\n",
    "print(device)"
   ]
  },
  {
   "cell_type": "markdown",
   "metadata": {},
   "source": [
    "### Prepare data"
   ]
  },
  {
   "cell_type": "code",
   "execution_count": 5,
   "metadata": {},
   "outputs": [],
   "source": [
    "class TinyImageNetDataset(Dataset):\n",
    "    def __init__(self, root_dir, split='train', transform=None):\n",
    "        self.root_dir = root_dir\n",
    "        self.split = split\n",
    "        self.transform = transform\n",
    "        self.image_dir = os.path.join(root_dir, 'train')\n",
    "        self.classes = sorted(os.listdir(self.image_dir))\n",
    "        self.images = []\n",
    "        self.labels = []\n",
    "\n",
    "        if split == 'train':\n",
    "            for label_idx, class_dir in enumerate(self.classes):\n",
    "                class_images = os.listdir(os.path.join(self.image_dir, class_dir, 'images'))\n",
    "                for img_name in class_images:\n",
    "                    img_path = os.path.join(self.image_dir, class_dir, 'images', img_name)\n",
    "                    if self.is_rgb(img_path):\n",
    "                        self.images.append(os.path.join(class_dir, 'images', img_name))\n",
    "                        self.labels.append(label_idx)\n",
    "\n",
    "        elif split == 'val':\n",
    "            self.image_dir = os.path.join(root_dir, 'val', 'images')\n",
    "            self.annotations_file = os.path.join(root_dir, 'val', 'val_annotations.txt')\n",
    "            annotations = pd.read_csv(self.annotations_file, sep='\\t', header=None)\n",
    "            for img_name, label in zip(annotations[0], annotations[1]):\n",
    "                img_path = os.path.join(self.image_dir, img_name)\n",
    "                if self.is_rgb(img_path):\n",
    "                    self.images.append(img_name)\n",
    "                    self.labels.append(self.classes.index(label))\n",
    "\n",
    "    def is_rgb(self, img_path):\n",
    "        with Image.open(img_path) as img:\n",
    "            return img.mode == 'RGB'\n",
    "\n",
    "    def __len__(self):\n",
    "        return len(self.images)\n",
    "\n",
    "    def __getitem__(self, idx):\n",
    "        img_name = os.path.join(self.image_dir, self.images[idx])\n",
    "        image = Image.open(img_name)\n",
    "\n",
    "        if self.transform:\n",
    "            image = self.transform(image)\n",
    "\n",
    "        label = self.labels[idx]\n",
    "\n",
    "        return image, label\n"
   ]
  },
  {
   "cell_type": "code",
   "execution_count": 6,
   "metadata": {},
   "outputs": [],
   "source": [
    "transform_train = transforms.Compose([\n",
    "    transforms.RandomCrop(64, padding=4),  \n",
    "    transforms.RandomHorizontalFlip(),    \n",
    "    transforms.ToTensor(),\n",
    "    transforms.Normalize((0.485, 0.456, 0.406), (0.229, 0.224, 0.225)) \n",
    "])\n",
    "\n",
    "transform_test = transforms.Compose([\n",
    "    transforms.ToTensor(),\n",
    "    transforms.Normalize((0.485, 0.456, 0.406), (0.229, 0.224, 0.225))\n",
    "])\n",
    "\n",
    "trainset = TinyImageNetDataset(root_dir='./data/tiny-imagenet-200', split='train', transform=transform_train)\n",
    "testset = TinyImageNetDataset(root_dir='./data/tiny-imagenet-200', split='val', transform=transform_test)"
   ]
  },
  {
   "cell_type": "code",
   "execution_count": 7,
   "metadata": {},
   "outputs": [
    {
     "name": "stderr",
     "output_type": "stream",
     "text": [
      "Clipping input data to the valid range for imshow with RGB data ([0..1] for floats or [0..255] for integers).\n"
     ]
    },
    {
     "data": {
      "text/plain": [
       "<matplotlib.image.AxesImage at 0x2c5deb0bbc0>"
      ]
     },
     "execution_count": 7,
     "metadata": {},
     "output_type": "execute_result"
    },
    {
     "data": {
      "image/png": "[encoded data removed]",
      "text/plain": [
       "<Figure size 640x480 with 1 Axes>"
      ]
     },
     "metadata": {},
     "output_type": "display_data"
    }
   ],
   "source": [
    "image = testset[2][0].permute(1, 2, 0).numpy()\n",
    "\n",
    "plt.imshow(image)"
   ]
  },
  {
   "cell_type": "code",
   "execution_count": 8,
   "metadata": {},
   "outputs": [
    {
     "name": "stdout",
     "output_type": "stream",
     "text": [
      "Size: (64, 64, 3)\n",
      "Train: 98179\n",
      "Test: 9832\n",
      "Classes: 200\n"
     ]
    }
   ],
   "source": [
    "print(f'Size: {image.shape}')\n",
    "print(f'Train: {len(trainset)}')\n",
    "print(f'Test: {len(testset)}')\n",
    "print(f'Classes: {len(testset.classes)}')"
   ]
  },
  {
   "cell_type": "markdown",
   "metadata": {},
   "source": [
    "### Config"
   ]
  },
  {
   "cell_type": "code",
   "execution_count": 9,
   "metadata": {},
   "outputs": [],
   "source": [
    "checkpoint_id = 1\n",
    "folder_path = f'./MLP/TinyImageNet/checkpoint{checkpoint_id}/'\n",
    "image_size = 64\n",
    "num_layers = 3\n",
    "hidden_channels = [256, 512, 256]\n",
    "num_classes = len(trainset.classes)\n",
    "batch_size = 256\n",
    "num_epochs = 100\n",
    "learning_rate = 0.001\n",
    "\n",
    "os.makedirs(folder_path, exist_ok=True)\n",
    "\n",
    "config = {\n",
    "    \"checkpoint_id\": checkpoint_id,\n",
    "    \"folder_path\": folder_path,\n",
    "    \"image_size\": image_size,\n",
    "    \"num_layers\": num_layers,\n",
    "    \"hidden_channels\": hidden_channels,\n",
    "    \"num_classes\": num_classes,\n",
    "    \"batch_size\": batch_size,\n",
    "    \"num_epochs\": num_epochs,\n",
    "    \"learning_rate\": learning_rate\n",
    "}\n",
    "\n",
    "with open(folder_path + \"config.json\", \"w\") as f:\n",
    "    json.dump(config, f, indent=4)"
   ]
  },
  {
   "cell_type": "code",
   "execution_count": 10,
   "metadata": {},
   "outputs": [
    {
     "name": "stdout",
     "output_type": "stream",
     "text": [
      "MLP(\n",
      "  (flatten): Flatten(start_dim=1, end_dim=-1)\n",
      "  (layers): Sequential(\n",
      "    (0): Linear(in_features=12288, out_features=256, bias=True)\n",
      "    (1): ReLU(inplace=True)\n",
      "    (2): Dropout(p=0.5, inplace=False)\n",
      "    (3): Linear(in_features=256, out_features=512, bias=True)\n",
      "    (4): ReLU(inplace=True)\n",
      "    (5): Dropout(p=0.5, inplace=False)\n",
      "    (6): Linear(in_features=512, out_features=256, bias=True)\n",
      "    (7): ReLU(inplace=True)\n",
      "    (8): Dropout(p=0.5, inplace=False)\n",
      "    (9): Linear(in_features=256, out_features=200, bias=True)\n",
      "  )\n",
      ")\n"
     ]
    }
   ],
   "source": [
    "model = MLP(image_size, num_layers, hidden_channels, num_classes).to(device)\n",
    "trainloader = DataLoader(trainset, batch_size=batch_size, shuffle=True, num_workers=0)\n",
    "testloader = DataLoader(testset, batch_size=batch_size, shuffle=False, num_workers=0)\n",
    "criterion = nn.CrossEntropyLoss()\n",
    "optimizer = optim.Adam(model.parameters(), lr=learning_rate, weight_decay=5e-4)\n",
    "scheduler = optim.lr_scheduler.OneCycleLR(optimizer, max_lr=learning_rate, steps_per_epoch=len(trainloader), epochs=num_epochs)\n",
    "print(model)"
   ]
  },
  {
   "cell_type": "markdown",
   "metadata": {},
   "source": [
    "### Train, test"
   ]
  },
  {
   "cell_type": "code",
   "execution_count": 11,
   "metadata": {},
   "outputs": [],
   "source": [
    "def train(model, trainloader, criterion, optimizer, scheduler, device, folder_path, num_epochs=10):\n",
    "    model.train()\n",
    "    epoch_losses = []\n",
    "    start = time.time()\n",
    "    for epoch in tqdm(range(num_epochs)):\n",
    "        running_loss = 0\n",
    "        for i, (inputs, labels) in enumerate(trainloader, 0):\n",
    "            inputs, labels = inputs.to(device), labels.to(device)\n",
    "\n",
    "            optimizer.zero_grad() \n",
    "\n",
    "            outputs = model(inputs) \n",
    "            loss = criterion(outputs, labels)  \n",
    "            loss.backward()\n",
    "            optimizer.step() \n",
    "\n",
    "            running_loss += loss.item()\n",
    "        running_loss = running_loss / len(trainloader)\n",
    "        print(f'Epoch [{epoch+1}/{num_epochs}], Loss: {running_loss:.4f}')\n",
    "        epoch_losses.append(running_loss)\n",
    "        scheduler.step()\n",
    "    end = time.time()\n",
    "    training_time = (end - start) / 3600\n",
    "\n",
    "    plt.plot(range(1, num_epochs + 1), epoch_losses)\n",
    "    plt.title('Training Loss per Epoch')\n",
    "    plt.suptitle(f'Training time: {training_time:.2f} hours')\n",
    "    plt.xlabel('Epoch')\n",
    "    plt.ylabel('Loss')\n",
    "    plt.savefig(folder_path + 'training_loss.png')\n",
    "    plt.show()\n",
    "\n",
    "    torch.save(model.state_dict(), folder_path + 'model_weights.pth')\n",
    "\n",
    "def evaluate(model, testloader, device, folder_path):\n",
    "    model.eval()\n",
    "    all_labels = []\n",
    "    all_predictions = []\n",
    "    \n",
    "    with torch.no_grad():\n",
    "        for inputs, labels in testloader:\n",
    "            inputs, labels = inputs.to(device), labels.to(device)\n",
    "            outputs = model(inputs)\n",
    "            _, predicted = torch.max(outputs.data, 1)\n",
    "            \n",
    "            all_labels.extend(labels.cpu().numpy())\n",
    "            all_predictions.extend(predicted.cpu().numpy())\n",
    "    \n",
    "    correct = sum([1 for a, p in zip(all_labels, all_predictions) if a == p])\n",
    "    total = len(all_labels)\n",
    "    accuracy = 100 * correct / total\n",
    "    report = classification_report(all_labels, all_predictions)\n",
    "    print(f'Accuracy: {accuracy:.2f}%')\n",
    "    print(\"Classification Report:\")\n",
    "    print(report)\n",
    "\n",
    "    with open(folder_path + 'report.txt', \"w\") as f:\n",
    "        f.write(f'Accuracy: {accuracy:.2f}%\\n')\n",
    "        f.write(\"Classification Report:\\n\\n\")\n",
    "        f.write(report)\n",
    "    "
   ]
  },
  {
   "cell_type": "code",
   "execution_count": 12,
   "metadata": {},
   "outputs": [
    {
     "name": "stderr",
     "output_type": "stream",
     "text": [
      "  1%|          | 1/100 [01:06<1:49:35, 66.42s/it]"
     ]
    },
    {
     "name": "stdout",
     "output_type": "stream",
     "text": [
      "Epoch [1/100], Loss: 5.2970\n"
     ]
    },
    {
     "name": "stderr",
     "output_type": "stream",
     "text": [
      "  2%|▏         | 2/100 [02:11<1:47:08, 65.59s/it]"
     ]
    },
    {
     "name": "stdout",
     "output_type": "stream",
     "text": [
      "Epoch [2/100], Loss: 5.2430\n"
     ]
    },
    {
     "name": "stderr",
     "output_type": "stream",
     "text": [
      "  3%|▎         | 3/100 [03:16<1:45:20, 65.16s/it]"
     ]
    },
    {
     "name": "stdout",
     "output_type": "stream",
     "text": [
      "Epoch [3/100], Loss: 5.1693\n"
     ]
    },
    {
     "name": "stderr",
     "output_type": "stream",
     "text": [
      "  4%|▍         | 4/100 [04:20<1:43:47, 64.87s/it]"
     ]
    },
    {
     "name": "stdout",
     "output_type": "stream",
     "text": [
      "Epoch [4/100], Loss: 5.1146\n"
     ]
    },
    {
     "name": "stderr",
     "output_type": "stream",
     "text": [
      "  5%|▌         | 5/100 [05:25<1:42:36, 64.81s/it]"
     ]
    },
    {
     "name": "stdout",
     "output_type": "stream",
     "text": [
      "Epoch [5/100], Loss: 5.0665\n"
     ]
    },
    {
     "name": "stderr",
     "output_type": "stream",
     "text": [
      "  6%|▌         | 6/100 [06:29<1:41:27, 64.76s/it]"
     ]
    },
    {
     "name": "stdout",
     "output_type": "stream",
     "text": [
      "Epoch [6/100], Loss: 5.0257\n"
     ]
    },
    {
     "name": "stderr",
     "output_type": "stream",
     "text": [
      "  7%|▋         | 7/100 [07:34<1:40:25, 64.79s/it]"
     ]
    },
    {
     "name": "stdout",
     "output_type": "stream",
     "text": [
      "Epoch [7/100], Loss: 4.9993\n"
     ]
    },
    {
     "name": "stderr",
     "output_type": "stream",
     "text": [
      "  8%|▊         | 8/100 [08:39<1:39:25, 64.84s/it]"
     ]
    },
    {
     "name": "stdout",
     "output_type": "stream",
     "text": [
      "Epoch [8/100], Loss: 4.9672\n"
     ]
    },
    {
     "name": "stderr",
     "output_type": "stream",
     "text": [
      "  9%|▉         | 9/100 [09:44<1:38:24, 64.88s/it]"
     ]
    },
    {
     "name": "stdout",
     "output_type": "stream",
     "text": [
      "Epoch [9/100], Loss: 4.9430\n"
     ]
    },
    {
     "name": "stderr",
     "output_type": "stream",
     "text": [
      " 10%|█         | 10/100 [10:49<1:37:07, 64.75s/it]"
     ]
    },
    {
     "name": "stdout",
     "output_type": "stream",
     "text": [
      "Epoch [10/100], Loss: 4.9298\n"
     ]
    },
    {
     "name": "stderr",
     "output_type": "stream",
     "text": [
      " 11%|█         | 11/100 [11:54<1:36:33, 65.09s/it]"
     ]
    },
    {
     "name": "stdout",
     "output_type": "stream",
     "text": [
      "Epoch [11/100], Loss: 4.9105\n"
     ]
    },
    {
     "name": "stderr",
     "output_type": "stream",
     "text": [
      " 12%|█▏        | 12/100 [12:59<1:35:15, 64.94s/it]"
     ]
    },
    {
     "name": "stdout",
     "output_type": "stream",
     "text": [
      "Epoch [12/100], Loss: 4.8940\n"
     ]
    },
    {
     "name": "stderr",
     "output_type": "stream",
     "text": [
      " 13%|█▎        | 13/100 [14:04<1:34:16, 65.02s/it]"
     ]
    },
    {
     "name": "stdout",
     "output_type": "stream",
     "text": [
      "Epoch [13/100], Loss: 4.8749\n"
     ]
    },
    {
     "name": "stderr",
     "output_type": "stream",
     "text": [
      " 14%|█▍        | 14/100 [15:09<1:32:54, 64.83s/it]"
     ]
    },
    {
     "name": "stdout",
     "output_type": "stream",
     "text": [
      "Epoch [14/100], Loss: 4.8580\n"
     ]
    },
    {
     "name": "stderr",
     "output_type": "stream",
     "text": [
      " 15%|█▌        | 15/100 [16:13<1:31:41, 64.73s/it]"
     ]
    },
    {
     "name": "stdout",
     "output_type": "stream",
     "text": [
      "Epoch [15/100], Loss: 4.8452\n"
     ]
    },
    {
     "name": "stderr",
     "output_type": "stream",
     "text": [
      " 16%|█▌        | 16/100 [17:18<1:30:28, 64.63s/it]"
     ]
    },
    {
     "name": "stdout",
     "output_type": "stream",
     "text": [
      "Epoch [16/100], Loss: 4.8321\n"
     ]
    },
    {
     "name": "stderr",
     "output_type": "stream",
     "text": [
      " 17%|█▋        | 17/100 [18:22<1:29:13, 64.50s/it]"
     ]
    },
    {
     "name": "stdout",
     "output_type": "stream",
     "text": [
      "Epoch [17/100], Loss: 4.8239\n"
     ]
    },
    {
     "name": "stderr",
     "output_type": "stream",
     "text": [
      " 18%|█▊        | 18/100 [19:26<1:28:06, 64.47s/it]"
     ]
    },
    {
     "name": "stdout",
     "output_type": "stream",
     "text": [
      "Epoch [18/100], Loss: 4.8139\n"
     ]
    },
    {
     "name": "stderr",
     "output_type": "stream",
     "text": [
      " 19%|█▉        | 19/100 [20:31<1:27:05, 64.51s/it]"
     ]
    },
    {
     "name": "stdout",
     "output_type": "stream",
     "text": [
      "Epoch [19/100], Loss: 4.7992\n"
     ]
    },
    {
     "name": "stderr",
     "output_type": "stream",
     "text": [
      " 20%|██        | 20/100 [21:35<1:26:02, 64.53s/it]"
     ]
    },
    {
     "name": "stdout",
     "output_type": "stream",
     "text": [
      "Epoch [20/100], Loss: 4.7915\n"
     ]
    },
    {
     "name": "stderr",
     "output_type": "stream",
     "text": [
      " 21%|██        | 21/100 [22:40<1:24:57, 64.53s/it]"
     ]
    },
    {
     "name": "stdout",
     "output_type": "stream",
     "text": [
      "Epoch [21/100], Loss: 4.7774\n"
     ]
    },
    {
     "name": "stderr",
     "output_type": "stream",
     "text": [
      " 22%|██▏       | 22/100 [23:45<1:24:00, 64.62s/it]"
     ]
    },
    {
     "name": "stdout",
     "output_type": "stream",
     "text": [
      "Epoch [22/100], Loss: 4.7694\n"
     ]
    },
    {
     "name": "stderr",
     "output_type": "stream",
     "text": [
      " 23%|██▎       | 23/100 [24:49<1:22:44, 64.47s/it]"
     ]
    },
    {
     "name": "stdout",
     "output_type": "stream",
     "text": [
      "Epoch [23/100], Loss: 4.7594\n"
     ]
    },
    {
     "name": "stderr",
     "output_type": "stream",
     "text": [
      " 24%|██▍       | 24/100 [25:53<1:21:34, 64.40s/it]"
     ]
    },
    {
     "name": "stdout",
     "output_type": "stream",
     "text": [
      "Epoch [24/100], Loss: 4.7485\n"
     ]
    },
    {
     "name": "stderr",
     "output_type": "stream",
     "text": [
      " 25%|██▌       | 25/100 [26:57<1:20:29, 64.39s/it]"
     ]
    },
    {
     "name": "stdout",
     "output_type": "stream",
     "text": [
      "Epoch [25/100], Loss: 4.7433\n"
     ]
    },
    {
     "name": "stderr",
     "output_type": "stream",
     "text": [
      " 26%|██▌       | 26/100 [28:02<1:19:38, 64.58s/it]"
     ]
    },
    {
     "name": "stdout",
     "output_type": "stream",
     "text": [
      "Epoch [26/100], Loss: 4.7337\n"
     ]
    },
    {
     "name": "stderr",
     "output_type": "stream",
     "text": [
      " 27%|██▋       | 27/100 [29:07<1:18:38, 64.64s/it]"
     ]
    },
    {
     "name": "stdout",
     "output_type": "stream",
     "text": [
      "Epoch [27/100], Loss: 4.7215\n"
     ]
    },
    {
     "name": "stderr",
     "output_type": "stream",
     "text": [
      " 28%|██▊       | 28/100 [30:12<1:17:31, 64.60s/it]"
     ]
    },
    {
     "name": "stdout",
     "output_type": "stream",
     "text": [
      "Epoch [28/100], Loss: 4.7155\n"
     ]
    },
    {
     "name": "stderr",
     "output_type": "stream",
     "text": [
      " 29%|██▉       | 29/100 [31:17<1:16:43, 64.84s/it]"
     ]
    },
    {
     "name": "stdout",
     "output_type": "stream",
     "text": [
      "Epoch [29/100], Loss: 4.7050\n"
     ]
    },
    {
     "name": "stderr",
     "output_type": "stream",
     "text": [
      " 30%|███       | 30/100 [32:21<1:15:27, 64.68s/it]"
     ]
    },
    {
     "name": "stdout",
     "output_type": "stream",
     "text": [
      "Epoch [30/100], Loss: 4.7019\n"
     ]
    },
    {
     "name": "stderr",
     "output_type": "stream",
     "text": [
      " 31%|███       | 31/100 [33:26<1:14:19, 64.64s/it]"
     ]
    },
    {
     "name": "stdout",
     "output_type": "stream",
     "text": [
      "Epoch [31/100], Loss: 4.6912\n"
     ]
    },
    {
     "name": "stderr",
     "output_type": "stream",
     "text": [
      " 32%|███▏      | 32/100 [34:30<1:13:02, 64.44s/it]"
     ]
    },
    {
     "name": "stdout",
     "output_type": "stream",
     "text": [
      "Epoch [32/100], Loss: 4.6834\n"
     ]
    },
    {
     "name": "stderr",
     "output_type": "stream",
     "text": [
      " 33%|███▎      | 33/100 [35:35<1:12:10, 64.64s/it]"
     ]
    },
    {
     "name": "stdout",
     "output_type": "stream",
     "text": [
      "Epoch [33/100], Loss: 4.6746\n"
     ]
    },
    {
     "name": "stderr",
     "output_type": "stream",
     "text": [
      " 34%|███▍      | 34/100 [36:41<1:11:26, 64.95s/it]"
     ]
    },
    {
     "name": "stdout",
     "output_type": "stream",
     "text": [
      "Epoch [34/100], Loss: 4.6677\n"
     ]
    },
    {
     "name": "stderr",
     "output_type": "stream",
     "text": [
      " 35%|███▌      | 35/100 [37:45<1:10:16, 64.87s/it]"
     ]
    },
    {
     "name": "stdout",
     "output_type": "stream",
     "text": [
      "Epoch [35/100], Loss: 4.6629\n"
     ]
    },
    {
     "name": "stderr",
     "output_type": "stream",
     "text": [
      " 36%|███▌      | 36/100 [38:50<1:08:57, 64.64s/it]"
     ]
    },
    {
     "name": "stdout",
     "output_type": "stream",
     "text": [
      "Epoch [36/100], Loss: 4.6562\n"
     ]
    },
    {
     "name": "stderr",
     "output_type": "stream",
     "text": [
      " 37%|███▋      | 37/100 [39:53<1:07:33, 64.34s/it]"
     ]
    },
    {
     "name": "stdout",
     "output_type": "stream",
     "text": [
      "Epoch [37/100], Loss: 4.6509\n"
     ]
    },
    {
     "name": "stderr",
     "output_type": "stream",
     "text": [
      " 38%|███▊      | 38/100 [40:59<1:06:50, 64.68s/it]"
     ]
    },
    {
     "name": "stdout",
     "output_type": "stream",
     "text": [
      "Epoch [38/100], Loss: 4.6449\n"
     ]
    },
    {
     "name": "stderr",
     "output_type": "stream",
     "text": [
      " 39%|███▉      | 39/100 [42:03<1:05:48, 64.73s/it]"
     ]
    },
    {
     "name": "stdout",
     "output_type": "stream",
     "text": [
      "Epoch [39/100], Loss: 4.6414\n"
     ]
    },
    {
     "name": "stderr",
     "output_type": "stream",
     "text": [
      " 40%|████      | 40/100 [43:08<1:04:48, 64.81s/it]"
     ]
    },
    {
     "name": "stdout",
     "output_type": "stream",
     "text": [
      "Epoch [40/100], Loss: 4.6310\n"
     ]
    },
    {
     "name": "stderr",
     "output_type": "stream",
     "text": [
      " 41%|████      | 41/100 [44:12<1:03:14, 64.31s/it]"
     ]
    },
    {
     "name": "stdout",
     "output_type": "stream",
     "text": [
      "Epoch [41/100], Loss: 4.6265\n"
     ]
    },
    {
     "name": "stderr",
     "output_type": "stream",
     "text": [
      " 42%|████▏     | 42/100 [45:14<1:01:42, 63.83s/it]"
     ]
    },
    {
     "name": "stdout",
     "output_type": "stream",
     "text": [
      "Epoch [42/100], Loss: 4.6201\n"
     ]
    },
    {
     "name": "stderr",
     "output_type": "stream",
     "text": [
      " 43%|████▎     | 43/100 [46:17<1:00:19, 63.50s/it]"
     ]
    },
    {
     "name": "stdout",
     "output_type": "stream",
     "text": [
      "Epoch [43/100], Loss: 4.6169\n"
     ]
    },
    {
     "name": "stderr",
     "output_type": "stream",
     "text": [
      " 44%|████▍     | 44/100 [47:20<59:02, 63.26s/it]  "
     ]
    },
    {
     "name": "stdout",
     "output_type": "stream",
     "text": [
      "Epoch [44/100], Loss: 4.6099\n"
     ]
    },
    {
     "name": "stderr",
     "output_type": "stream",
     "text": [
      " 45%|████▌     | 45/100 [48:23<57:52, 63.14s/it]"
     ]
    },
    {
     "name": "stdout",
     "output_type": "stream",
     "text": [
      "Epoch [45/100], Loss: 4.6032\n"
     ]
    },
    {
     "name": "stderr",
     "output_type": "stream",
     "text": [
      " 46%|████▌     | 46/100 [49:25<56:44, 63.04s/it]"
     ]
    },
    {
     "name": "stdout",
     "output_type": "stream",
     "text": [
      "Epoch [46/100], Loss: 4.5995\n"
     ]
    },
    {
     "name": "stderr",
     "output_type": "stream",
     "text": [
      " 47%|████▋     | 47/100 [50:30<56:06, 63.52s/it]"
     ]
    },
    {
     "name": "stdout",
     "output_type": "stream",
     "text": [
      "Epoch [47/100], Loss: 4.5939\n"
     ]
    },
    {
     "name": "stderr",
     "output_type": "stream",
     "text": [
      " 48%|████▊     | 48/100 [51:35<55:18, 63.82s/it]"
     ]
    },
    {
     "name": "stdout",
     "output_type": "stream",
     "text": [
      "Epoch [48/100], Loss: 4.5901\n"
     ]
    },
    {
     "name": "stderr",
     "output_type": "stream",
     "text": [
      " 49%|████▉     | 49/100 [52:39<54:24, 64.01s/it]"
     ]
    },
    {
     "name": "stdout",
     "output_type": "stream",
     "text": [
      "Epoch [49/100], Loss: 4.5859\n"
     ]
    },
    {
     "name": "stderr",
     "output_type": "stream",
     "text": [
      " 50%|█████     | 50/100 [53:44<53:28, 64.17s/it]"
     ]
    },
    {
     "name": "stdout",
     "output_type": "stream",
     "text": [
      "Epoch [50/100], Loss: 4.5792\n"
     ]
    },
    {
     "name": "stderr",
     "output_type": "stream",
     "text": [
      " 51%|█████     | 51/100 [54:48<52:30, 64.30s/it]"
     ]
    },
    {
     "name": "stdout",
     "output_type": "stream",
     "text": [
      "Epoch [51/100], Loss: 4.5774\n"
     ]
    },
    {
     "name": "stderr",
     "output_type": "stream",
     "text": [
      " 52%|█████▏    | 52/100 [55:53<51:30, 64.39s/it]"
     ]
    },
    {
     "name": "stdout",
     "output_type": "stream",
     "text": [
      "Epoch [52/100], Loss: 4.5743\n"
     ]
    },
    {
     "name": "stderr",
     "output_type": "stream",
     "text": [
      " 53%|█████▎    | 53/100 [56:57<50:26, 64.40s/it]"
     ]
    },
    {
     "name": "stdout",
     "output_type": "stream",
     "text": [
      "Epoch [53/100], Loss: 4.5634\n"
     ]
    },
    {
     "name": "stderr",
     "output_type": "stream",
     "text": [
      " 54%|█████▍    | 54/100 [58:01<49:19, 64.33s/it]"
     ]
    },
    {
     "name": "stdout",
     "output_type": "stream",
     "text": [
      "Epoch [54/100], Loss: 4.5641\n"
     ]
    },
    {
     "name": "stderr",
     "output_type": "stream",
     "text": [
      " 55%|█████▌    | 55/100 [59:06<48:12, 64.28s/it]"
     ]
    },
    {
     "name": "stdout",
     "output_type": "stream",
     "text": [
      "Epoch [55/100], Loss: 4.5589\n"
     ]
    },
    {
     "name": "stderr",
     "output_type": "stream",
     "text": [
      " 56%|█████▌    | 56/100 [1:00:11<47:29, 64.76s/it]"
     ]
    },
    {
     "name": "stdout",
     "output_type": "stream",
     "text": [
      "Epoch [56/100], Loss: 4.5544\n"
     ]
    },
    {
     "name": "stderr",
     "output_type": "stream",
     "text": [
      " 57%|█████▋    | 57/100 [1:01:17<46:40, 65.13s/it]"
     ]
    },
    {
     "name": "stdout",
     "output_type": "stream",
     "text": [
      "Epoch [57/100], Loss: 4.5527\n"
     ]
    },
    {
     "name": "stderr",
     "output_type": "stream",
     "text": [
      " 58%|█████▊    | 58/100 [1:02:22<45:30, 65.01s/it]"
     ]
    },
    {
     "name": "stdout",
     "output_type": "stream",
     "text": [
      "Epoch [58/100], Loss: 4.5481\n"
     ]
    },
    {
     "name": "stderr",
     "output_type": "stream",
     "text": [
      " 59%|█████▉    | 59/100 [1:03:27<44:21, 64.91s/it]"
     ]
    },
    {
     "name": "stdout",
     "output_type": "stream",
     "text": [
      "Epoch [59/100], Loss: 4.5479\n"
     ]
    },
    {
     "name": "stderr",
     "output_type": "stream",
     "text": [
      " 60%|██████    | 60/100 [1:04:31<43:09, 64.74s/it]"
     ]
    },
    {
     "name": "stdout",
     "output_type": "stream",
     "text": [
      "Epoch [60/100], Loss: 4.5389\n"
     ]
    },
    {
     "name": "stderr",
     "output_type": "stream",
     "text": [
      " 61%|██████    | 61/100 [1:05:36<42:02, 64.68s/it]"
     ]
    },
    {
     "name": "stdout",
     "output_type": "stream",
     "text": [
      "Epoch [61/100], Loss: 4.5364\n"
     ]
    },
    {
     "name": "stderr",
     "output_type": "stream",
     "text": [
      " 62%|██████▏   | 62/100 [1:06:40<40:57, 64.66s/it]"
     ]
    },
    {
     "name": "stdout",
     "output_type": "stream",
     "text": [
      "Epoch [62/100], Loss: 4.5358\n"
     ]
    },
    {
     "name": "stderr",
     "output_type": "stream",
     "text": [
      " 63%|██████▎   | 63/100 [1:07:45<39:51, 64.64s/it]"
     ]
    },
    {
     "name": "stdout",
     "output_type": "stream",
     "text": [
      "Epoch [63/100], Loss: 4.5291\n"
     ]
    },
    {
     "name": "stderr",
     "output_type": "stream",
     "text": [
      " 64%|██████▍   | 64/100 [1:08:49<38:45, 64.59s/it]"
     ]
    },
    {
     "name": "stdout",
     "output_type": "stream",
     "text": [
      "Epoch [64/100], Loss: 4.5280\n"
     ]
    },
    {
     "name": "stderr",
     "output_type": "stream",
     "text": [
      " 65%|██████▌   | 65/100 [1:09:54<37:40, 64.58s/it]"
     ]
    },
    {
     "name": "stdout",
     "output_type": "stream",
     "text": [
      "Epoch [65/100], Loss: 4.5213\n"
     ]
    },
    {
     "name": "stderr",
     "output_type": "stream",
     "text": [
      " 66%|██████▌   | 66/100 [1:10:58<36:34, 64.55s/it]"
     ]
    },
    {
     "name": "stdout",
     "output_type": "stream",
     "text": [
      "Epoch [66/100], Loss: 4.5208\n"
     ]
    },
    {
     "name": "stderr",
     "output_type": "stream",
     "text": [
      " 67%|██████▋   | 67/100 [1:12:05<35:47, 65.06s/it]"
     ]
    },
    {
     "name": "stdout",
     "output_type": "stream",
     "text": [
      "Epoch [67/100], Loss: 4.5172\n"
     ]
    },
    {
     "name": "stderr",
     "output_type": "stream",
     "text": [
      " 68%|██████▊   | 68/100 [1:13:10<34:44, 65.13s/it]"
     ]
    },
    {
     "name": "stdout",
     "output_type": "stream",
     "text": [
      "Epoch [68/100], Loss: 4.5113\n"
     ]
    },
    {
     "name": "stderr",
     "output_type": "stream",
     "text": [
      " 69%|██████▉   | 69/100 [1:14:16<33:43, 65.26s/it]"
     ]
    },
    {
     "name": "stdout",
     "output_type": "stream",
     "text": [
      "Epoch [69/100], Loss: 4.5084\n"
     ]
    },
    {
     "name": "stderr",
     "output_type": "stream",
     "text": [
      " 70%|███████   | 70/100 [1:15:21<32:41, 65.37s/it]"
     ]
    },
    {
     "name": "stdout",
     "output_type": "stream",
     "text": [
      "Epoch [70/100], Loss: 4.5078\n"
     ]
    },
    {
     "name": "stderr",
     "output_type": "stream",
     "text": [
      " 71%|███████   | 71/100 [1:16:27<31:36, 65.41s/it]"
     ]
    },
    {
     "name": "stdout",
     "output_type": "stream",
     "text": [
      "Epoch [71/100], Loss: 4.5011\n"
     ]
    },
    {
     "name": "stderr",
     "output_type": "stream",
     "text": [
      " 72%|███████▏  | 72/100 [1:17:32<30:28, 65.29s/it]"
     ]
    },
    {
     "name": "stdout",
     "output_type": "stream",
     "text": [
      "Epoch [72/100], Loss: 4.5032\n"
     ]
    },
    {
     "name": "stderr",
     "output_type": "stream",
     "text": [
      " 73%|███████▎  | 73/100 [1:18:37<29:20, 65.20s/it]"
     ]
    },
    {
     "name": "stdout",
     "output_type": "stream",
     "text": [
      "Epoch [73/100], Loss: 4.4996\n"
     ]
    },
    {
     "name": "stderr",
     "output_type": "stream",
     "text": [
      " 74%|███████▍  | 74/100 [1:19:41<28:11, 65.04s/it]"
     ]
    },
    {
     "name": "stdout",
     "output_type": "stream",
     "text": [
      "Epoch [74/100], Loss: 4.4961\n"
     ]
    },
    {
     "name": "stderr",
     "output_type": "stream",
     "text": [
      " 75%|███████▌  | 75/100 [1:20:46<27:03, 64.92s/it]"
     ]
    },
    {
     "name": "stdout",
     "output_type": "stream",
     "text": [
      "Epoch [75/100], Loss: 4.4948\n"
     ]
    },
    {
     "name": "stderr",
     "output_type": "stream",
     "text": [
      " 76%|███████▌  | 76/100 [1:21:51<25:56, 64.85s/it]"
     ]
    },
    {
     "name": "stdout",
     "output_type": "stream",
     "text": [
      "Epoch [76/100], Loss: 4.4916\n"
     ]
    },
    {
     "name": "stderr",
     "output_type": "stream",
     "text": [
      " 77%|███████▋  | 77/100 [1:22:55<24:50, 64.82s/it]"
     ]
    },
    {
     "name": "stdout",
     "output_type": "stream",
     "text": [
      "Epoch [77/100], Loss: 4.4881\n"
     ]
    },
    {
     "name": "stderr",
     "output_type": "stream",
     "text": [
      " 78%|███████▊  | 78/100 [1:24:00<23:46, 64.83s/it]"
     ]
    },
    {
     "name": "stdout",
     "output_type": "stream",
     "text": [
      "Epoch [78/100], Loss: 4.4883\n"
     ]
    },
    {
     "name": "stderr",
     "output_type": "stream",
     "text": [
      " 79%|███████▉  | 79/100 [1:25:05<22:40, 64.78s/it]"
     ]
    },
    {
     "name": "stdout",
     "output_type": "stream",
     "text": [
      "Epoch [79/100], Loss: 4.4839\n"
     ]
    },
    {
     "name": "stderr",
     "output_type": "stream",
     "text": [
      " 80%|████████  | 80/100 [1:26:09<21:32, 64.64s/it]"
     ]
    },
    {
     "name": "stdout",
     "output_type": "stream",
     "text": [
      "Epoch [80/100], Loss: 4.4784\n"
     ]
    },
    {
     "name": "stderr",
     "output_type": "stream",
     "text": [
      " 81%|████████  | 81/100 [1:27:14<20:29, 64.73s/it]"
     ]
    },
    {
     "name": "stdout",
     "output_type": "stream",
     "text": [
      "Epoch [81/100], Loss: 4.4753\n"
     ]
    },
    {
     "name": "stderr",
     "output_type": "stream",
     "text": [
      " 82%|████████▏ | 82/100 [1:28:19<19:24, 64.69s/it]"
     ]
    },
    {
     "name": "stdout",
     "output_type": "stream",
     "text": [
      "Epoch [82/100], Loss: 4.4749\n"
     ]
    },
    {
     "name": "stderr",
     "output_type": "stream",
     "text": [
      " 83%|████████▎ | 83/100 [1:29:23<18:19, 64.67s/it]"
     ]
    },
    {
     "name": "stdout",
     "output_type": "stream",
     "text": [
      "Epoch [83/100], Loss: 4.4752\n"
     ]
    },
    {
     "name": "stderr",
     "output_type": "stream",
     "text": [
      " 84%|████████▍ | 84/100 [1:30:28<17:14, 64.68s/it]"
     ]
    },
    {
     "name": "stdout",
     "output_type": "stream",
     "text": [
      "Epoch [84/100], Loss: 4.4684\n"
     ]
    },
    {
     "name": "stderr",
     "output_type": "stream",
     "text": [
      " 85%|████████▌ | 85/100 [1:31:33<16:09, 64.64s/it]"
     ]
    },
    {
     "name": "stdout",
     "output_type": "stream",
     "text": [
      "Epoch [85/100], Loss: 4.4654\n"
     ]
    },
    {
     "name": "stderr",
     "output_type": "stream",
     "text": [
      " 86%|████████▌ | 86/100 [1:32:38<15:08, 64.88s/it]"
     ]
    },
    {
     "name": "stdout",
     "output_type": "stream",
     "text": [
      "Epoch [86/100], Loss: 4.4666\n"
     ]
    },
    {
     "name": "stderr",
     "output_type": "stream",
     "text": [
      " 87%|████████▋ | 87/100 [1:33:43<14:02, 64.82s/it]"
     ]
    },
    {
     "name": "stdout",
     "output_type": "stream",
     "text": [
      "Epoch [87/100], Loss: 4.4636\n"
     ]
    },
    {
     "name": "stderr",
     "output_type": "stream",
     "text": [
      " 88%|████████▊ | 88/100 [1:34:48<12:57, 64.81s/it]"
     ]
    },
    {
     "name": "stdout",
     "output_type": "stream",
     "text": [
      "Epoch [88/100], Loss: 4.4610\n"
     ]
    },
    {
     "name": "stderr",
     "output_type": "stream",
     "text": [
      " 89%|████████▉ | 89/100 [1:35:52<11:52, 64.78s/it]"
     ]
    },
    {
     "name": "stdout",
     "output_type": "stream",
     "text": [
      "Epoch [89/100], Loss: 4.4605\n"
     ]
    },
    {
     "name": "stderr",
     "output_type": "stream",
     "text": [
      " 90%|█████████ | 90/100 [1:36:57<10:47, 64.78s/it]"
     ]
    },
    {
     "name": "stdout",
     "output_type": "stream",
     "text": [
      "Epoch [90/100], Loss: 4.4540\n"
     ]
    },
    {
     "name": "stderr",
     "output_type": "stream",
     "text": [
      " 91%|█████████ | 91/100 [1:38:02<09:43, 64.85s/it]"
     ]
    },
    {
     "name": "stdout",
     "output_type": "stream",
     "text": [
      "Epoch [91/100], Loss: 4.4551\n"
     ]
    },
    {
     "name": "stderr",
     "output_type": "stream",
     "text": [
      " 92%|█████████▏| 92/100 [1:39:05<08:35, 64.38s/it]"
     ]
    },
    {
     "name": "stdout",
     "output_type": "stream",
     "text": [
      "Epoch [92/100], Loss: 4.4509\n"
     ]
    },
    {
     "name": "stderr",
     "output_type": "stream",
     "text": [
      " 93%|█████████▎| 93/100 [1:40:10<07:30, 64.42s/it]"
     ]
    },
    {
     "name": "stdout",
     "output_type": "stream",
     "text": [
      "Epoch [93/100], Loss: 4.4522\n"
     ]
    },
    {
     "name": "stderr",
     "output_type": "stream",
     "text": [
      " 94%|█████████▍| 94/100 [1:41:14<06:25, 64.25s/it]"
     ]
    },
    {
     "name": "stdout",
     "output_type": "stream",
     "text": [
      "Epoch [94/100], Loss: 4.4464\n"
     ]
    },
    {
     "name": "stderr",
     "output_type": "stream",
     "text": [
      " 95%|█████████▌| 95/100 [1:42:17<05:20, 64.02s/it]"
     ]
    },
    {
     "name": "stdout",
     "output_type": "stream",
     "text": [
      "Epoch [95/100], Loss: 4.4438\n"
     ]
    },
    {
     "name": "stderr",
     "output_type": "stream",
     "text": [
      " 96%|█████████▌| 96/100 [1:43:22<04:17, 64.31s/it]"
     ]
    },
    {
     "name": "stdout",
     "output_type": "stream",
     "text": [
      "Epoch [96/100], Loss: 4.4445\n"
     ]
    },
    {
     "name": "stderr",
     "output_type": "stream",
     "text": [
      " 97%|█████████▋| 97/100 [1:44:26<03:12, 64.14s/it]"
     ]
    },
    {
     "name": "stdout",
     "output_type": "stream",
     "text": [
      "Epoch [97/100], Loss: 4.4404\n"
     ]
    },
    {
     "name": "stderr",
     "output_type": "stream",
     "text": [
      " 98%|█████████▊| 98/100 [1:45:29<02:07, 63.78s/it]"
     ]
    },
    {
     "name": "stdout",
     "output_type": "stream",
     "text": [
      "Epoch [98/100], Loss: 4.4387\n"
     ]
    },
    {
     "name": "stderr",
     "output_type": "stream",
     "text": [
      " 99%|█████████▉| 99/100 [1:46:33<01:03, 63.77s/it]"
     ]
    },
    {
     "name": "stdout",
     "output_type": "stream",
     "text": [
      "Epoch [99/100], Loss: 4.4394\n"
     ]
    },
    {
     "name": "stderr",
     "output_type": "stream",
     "text": [
      "100%|██████████| 100/100 [1:47:36<00:00, 64.56s/it]"
     ]
    },
    {
     "name": "stdout",
     "output_type": "stream",
     "text": [
      "Epoch [100/100], Loss: 4.4371\n"
     ]
    },
    {
     "name": "stderr",
     "output_type": "stream",
     "text": [
      "\n"
     ]
    },
    {
     "data": {
      "image/png": "[encoded data removed]",
      "text/plain": [
       "<Figure size 640x480 with 1 Axes>"
      ]
     },
     "metadata": {},
     "output_type": "display_data"
    }
   ],
   "source": [
    "train(model, trainloader, criterion, optimizer, scheduler, device, folder_path, num_epochs=num_epochs)"
   ]
  },
  {
   "cell_type": "code",
   "execution_count": 13,
   "metadata": {},
   "outputs": [
    {
     "name": "stdout",
     "output_type": "stream",
     "text": [
      "Accuracy: 10.04%\n",
      "Classification Report:\n",
      "              precision    recall  f1-score   support\n",
      "\n",
      "           0       0.27      0.48      0.35        50\n",
      "           1       0.06      0.02      0.03        50\n",
      "           2       0.07      0.04      0.05        50\n",
      "           3       0.00      0.00      0.00        50\n",
      "           4       0.24      0.08      0.12        49\n",
      "           5       0.00      0.00      0.00        50\n",
      "           6       0.00      0.00      0.00        50\n",
      "           7       0.00      0.00      0.00        50\n",
      "           8       0.14      0.06      0.08        50\n",
      "           9       0.05      0.02      0.03        50\n",
      "          10       0.00      0.00      0.00        50\n",
      "          11       0.00      0.00      0.00        47\n",
      "          12       0.00      0.00      0.00        50\n",
      "          13       0.18      0.62      0.28        50\n",
      "          14       0.19      0.16      0.17        50\n",
      "          15       0.00      0.00      0.00        49\n",
      "          16       0.00      0.00      0.00        49\n",
      "          17       0.17      0.02      0.04        50\n",
      "          18       0.00      0.00      0.00        50\n",
      "          19       0.10      0.06      0.07        50\n",
      "          20       0.17      0.04      0.07        49\n",
      "          21       0.03      0.04      0.03        50\n",
      "          22       0.05      0.06      0.05        50\n",
      "          23       0.22      0.44      0.29        50\n",
      "          24       0.00      0.00      0.00        49\n",
      "          25       0.03      0.02      0.02        50\n",
      "          26       0.06      0.02      0.03        50\n",
      "          27       0.00      0.00      0.00        50\n",
      "          28       0.09      0.04      0.06        50\n",
      "          29       0.00      0.00      0.00        49\n",
      "          30       0.00      0.00      0.00        50\n",
      "          31       0.12      0.14      0.13        49\n",
      "          32       0.33      0.04      0.07        50\n",
      "          33       0.00      0.00      0.00        50\n",
      "          34       0.20      0.04      0.07        50\n",
      "          35       0.00      0.00      0.00        49\n",
      "          36       0.11      0.12      0.11        50\n",
      "          37       0.07      0.20      0.11        49\n",
      "          38       0.09      0.14      0.11        50\n",
      "          39       0.00      0.00      0.00        50\n",
      "          40       0.00      0.00      0.00        50\n",
      "          41       0.05      0.04      0.04        50\n",
      "          42       0.08      0.02      0.03        50\n",
      "          43       0.12      0.04      0.06        50\n",
      "          44       0.13      0.20      0.16        50\n",
      "          45       0.15      0.36      0.21        50\n",
      "          46       0.14      0.02      0.04        50\n",
      "          47       0.12      0.14      0.13        49\n",
      "          48       0.00      0.00      0.00        50\n",
      "          49       0.00      0.00      0.00        47\n",
      "          50       0.09      0.20      0.12        50\n",
      "          51       0.00      0.00      0.00        49\n",
      "          52       0.00      0.00      0.00        50\n",
      "          53       0.13      0.16      0.14        50\n",
      "          54       0.00      0.00      0.00        48\n",
      "          55       0.08      0.30      0.13        46\n",
      "          56       0.50      0.02      0.04        50\n",
      "          57       0.00      0.00      0.00        47\n",
      "          58       0.13      0.37      0.19        49\n",
      "          59       0.00      0.00      0.00        50\n",
      "          60       0.03      0.24      0.06        49\n",
      "          61       0.07      0.04      0.05        50\n",
      "          62       0.13      0.04      0.06        50\n",
      "          63       0.07      0.18      0.10        50\n",
      "          64       0.00      0.00      0.00        47\n",
      "          65       0.00      0.00      0.00        46\n",
      "          66       0.13      0.19      0.15        48\n",
      "          67       0.25      0.02      0.04        48\n",
      "          68       0.04      0.06      0.05        48\n",
      "          69       0.11      0.02      0.03        49\n",
      "          70       0.13      0.04      0.06        50\n",
      "          71       0.10      0.18      0.13        50\n",
      "          72       0.00      0.00      0.00        49\n",
      "          73       0.01      0.04      0.02        50\n",
      "          74       0.12      0.33      0.17        46\n",
      "          75       0.05      0.04      0.04        48\n",
      "          76       0.00      0.00      0.00        50\n",
      "          77       0.07      0.04      0.05        47\n",
      "          78       0.00      0.00      0.00        49\n",
      "          79       0.00      0.00      0.00        47\n",
      "          80       0.22      0.04      0.07        49\n",
      "          81       0.11      0.32      0.16        50\n",
      "          82       0.04      0.08      0.06        50\n",
      "          83       0.08      0.22      0.11        49\n",
      "          84       0.21      0.06      0.10        49\n",
      "          85       0.33      0.02      0.04        50\n",
      "          86       0.09      0.08      0.08        50\n",
      "          87       0.03      0.04      0.03        48\n",
      "          88       0.00      0.00      0.00        49\n",
      "          89       0.17      0.06      0.09        50\n",
      "          90       0.11      0.36      0.17        50\n",
      "          91       0.21      0.10      0.14        50\n",
      "          92       0.05      0.04      0.04        50\n",
      "          93       0.16      0.06      0.09        50\n",
      "          94       0.29      0.24      0.27        49\n",
      "          95       0.00      0.00      0.00        48\n",
      "          96       0.06      0.02      0.03        47\n",
      "          97       0.04      0.10      0.05        49\n",
      "          98       0.06      0.10      0.08        50\n",
      "          99       0.07      0.02      0.03        49\n",
      "         100       0.00      0.00      0.00        46\n",
      "         101       0.14      0.29      0.19        49\n",
      "         102       0.00      0.00      0.00        46\n",
      "         103       0.22      0.32      0.26        50\n",
      "         104       0.12      0.08      0.10        50\n",
      "         105       0.06      0.02      0.03        48\n",
      "         106       0.00      0.00      0.00        49\n",
      "         107       0.14      0.04      0.06        49\n",
      "         108       0.07      0.06      0.06        47\n",
      "         109       0.04      0.06      0.05        48\n",
      "         110       0.07      0.10      0.08        50\n",
      "         111       0.08      0.27      0.13        49\n",
      "         112       0.05      0.02      0.03        50\n",
      "         113       0.06      0.12      0.08        50\n",
      "         114       0.12      0.04      0.06        49\n",
      "         115       0.21      0.38      0.27        50\n",
      "         116       0.19      0.22      0.20        50\n",
      "         117       0.05      0.37      0.08        49\n",
      "         118       0.30      0.06      0.10        49\n",
      "         119       0.00      0.00      0.00        45\n",
      "         120       0.08      0.02      0.03        50\n",
      "         121       0.07      0.12      0.09        50\n",
      "         122       0.00      0.00      0.00        48\n",
      "         123       0.03      0.08      0.05        49\n",
      "         124       0.18      0.49      0.26        49\n",
      "         125       0.00      0.00      0.00        49\n",
      "         126       0.05      0.12      0.07        50\n",
      "         127       0.00      0.00      0.00        49\n",
      "         128       0.06      0.06      0.06        47\n",
      "         129       0.00      0.00      0.00        48\n",
      "         130       0.07      0.02      0.03        49\n",
      "         131       0.00      0.00      0.00        49\n",
      "         132       0.00      0.00      0.00        50\n",
      "         133       0.22      0.44      0.30        50\n",
      "         134       0.09      0.10      0.10        50\n",
      "         135       0.00      0.00      0.00        50\n",
      "         136       0.00      0.00      0.00        47\n",
      "         137       0.00      0.00      0.00        48\n",
      "         138       0.00      0.00      0.00        47\n",
      "         139       0.00      0.00      0.00        47\n",
      "         140       0.07      0.02      0.03        49\n",
      "         141       0.00      0.00      0.00        47\n",
      "         142       0.40      0.04      0.08        48\n",
      "         143       0.17      0.28      0.22        50\n",
      "         144       0.04      0.06      0.05        49\n",
      "         145       0.19      0.58      0.29        50\n",
      "         146       0.06      0.06      0.06        50\n",
      "         147       0.10      0.06      0.08        50\n",
      "         148       0.10      0.20      0.13        50\n",
      "         149       0.00      0.00      0.00        49\n",
      "         150       0.02      0.04      0.03        47\n",
      "         151       0.00      0.00      0.00        50\n",
      "         152       0.15      0.15      0.15        48\n",
      "         153       0.17      0.14      0.15        49\n",
      "         154       0.12      0.02      0.04        49\n",
      "         155       0.07      0.09      0.08        46\n",
      "         156       0.12      0.09      0.10        46\n",
      "         157       0.13      0.12      0.13        50\n",
      "         158       0.09      0.02      0.03        49\n",
      "         159       0.00      0.00      0.00        46\n",
      "         160       0.00      0.00      0.00        50\n",
      "         161       0.00      0.00      0.00        48\n",
      "         162       0.50      0.02      0.04        50\n",
      "         163       0.05      0.14      0.07        50\n",
      "         164       0.21      0.08      0.12        48\n",
      "         165       0.09      0.35      0.14        48\n",
      "         166       0.14      0.31      0.19        48\n",
      "         167       0.00      0.00      0.00        49\n",
      "         168       0.00      0.00      0.00        47\n",
      "         169       0.11      0.06      0.08        49\n",
      "         170       0.11      0.26      0.15        50\n",
      "         171       0.12      0.02      0.04        49\n",
      "         172       0.00      0.00      0.00        50\n",
      "         173       0.05      0.11      0.07        47\n",
      "         174       0.09      0.06      0.07        50\n",
      "         175       0.00      0.00      0.00        50\n",
      "         176       0.00      0.00      0.00        50\n",
      "         177       0.10      0.24      0.14        50\n",
      "         178       0.14      0.26      0.18        50\n",
      "         179       0.11      0.06      0.08        50\n",
      "         180       0.00      0.00      0.00        50\n",
      "         181       0.08      0.06      0.07        50\n",
      "         182       0.12      0.08      0.10        50\n",
      "         183       0.12      0.16      0.14        50\n",
      "         184       0.18      0.44      0.25        50\n",
      "         185       0.10      0.12      0.11        49\n",
      "         186       0.09      0.52      0.16        50\n",
      "         187       0.14      0.42      0.21        50\n",
      "         188       0.04      0.06      0.05        50\n",
      "         189       0.12      0.46      0.19        50\n",
      "         190       0.06      0.06      0.06        50\n",
      "         191       0.16      0.28      0.20        50\n",
      "         192       0.18      0.24      0.21        50\n",
      "         193       0.14      0.16      0.15        50\n",
      "         194       0.23      0.24      0.23        50\n",
      "         195       0.00      0.00      0.00        50\n",
      "         196       0.17      0.18      0.18        50\n",
      "         197       0.16      0.06      0.09        49\n",
      "         198       0.18      0.26      0.21        50\n",
      "         199       0.09      0.08      0.08        50\n",
      "\n",
      "    accuracy                           0.10      9832\n",
      "   macro avg       0.09      0.10      0.07      9832\n",
      "weighted avg       0.09      0.10      0.07      9832\n",
      "\n"
     ]
    },
    {
     "name": "stderr",
     "output_type": "stream",
     "text": [
      "C:\\Users\\solit\\AppData\\Roaming\\Python\\Python312\\site-packages\\sklearn\\metrics\\_classification.py:1509: UndefinedMetricWarning: Precision is ill-defined and being set to 0.0 in labels with no predicted samples. Use `zero_division` parameter to control this behavior.\n",
      "  _warn_prf(average, modifier, f\"{metric.capitalize()} is\", len(result))\n",
      "C:\\Users\\solit\\AppData\\Roaming\\Python\\Python312\\site-packages\\sklearn\\metrics\\_classification.py:1509: UndefinedMetricWarning: Precision is ill-defined and being set to 0.0 in labels with no predicted samples. Use `zero_division` parameter to control this behavior.\n",
      "  _warn_prf(average, modifier, f\"{metric.capitalize()} is\", len(result))\n",
      "C:\\Users\\solit\\AppData\\Roaming\\Python\\Python312\\site-packages\\sklearn\\metrics\\_classification.py:1509: UndefinedMetricWarning: Precision is ill-defined and being set to 0.0 in labels with no predicted samples. Use `zero_division` parameter to control this behavior.\n",
      "  _warn_prf(average, modifier, f\"{metric.capitalize()} is\", len(result))\n"
     ]
    }
   ],
   "source": [
    "evaluate(model, testloader, device, folder_path)"
   ]
  }
 ],
 "metadata": {
  "kernelspec": {
   "display_name": "base",
   "language": "python",
   "name": "python3"
  },
  "language_info": {
   "codemirror_mode": {
    "name": "ipython",
    "version": 3
   },
   "file_extension": ".py",
   "mimetype": "text/x-python",
   "name": "python",
   "nbconvert_exporter": "python",
   "pygments_lexer": "ipython3",
   "version": "3.12.3"
  }
 },
 "nbformat": 4,
 "nbformat_minor": 2
}
